{
 "cells": [
  {
   "cell_type": "markdown",
   "metadata": {},
   "source": [
    "# Classes and objects"
   ]
  },
  {
   "cell_type": "markdown",
   "metadata": {},
   "source": [
    "## Classes"
   ]
  },
  {
   "cell_type": "code",
   "execution_count": 179,
   "metadata": {},
   "outputs": [
    {
     "data": {
      "text/plain": [
       "str"
      ]
     },
     "execution_count": 179,
     "metadata": {},
     "output_type": "execute_result"
    }
   ],
   "source": [
    "a = \"hello\"\n",
    "\n",
    "type(a)"
   ]
  },
  {
   "cell_type": "markdown",
   "metadata": {},
   "source": [
    "#### A is the object. \"hello\" is the content.\n",
    "\n",
    "- If I write a. I will see all methods availables that can be used (example: .capitalize() is a method)"
   ]
  },
  {
   "cell_type": "code",
   "execution_count": 180,
   "metadata": {},
   "outputs": [
    {
     "data": {
      "text/plain": [
       "'Hello'"
      ]
     },
     "execution_count": 180,
     "metadata": {},
     "output_type": "execute_result"
    }
   ],
   "source": [
    "a.capitalize()"
   ]
  },
  {
   "cell_type": "markdown",
   "metadata": {},
   "source": [
    "### Objects\n",
    "\n",
    "- Everything is object\n",
    "- Every object is having its own memory made of others objects\n",
    "- Every object has a type\n",
    "- A programme is a set objects that interacts via messages\n",
    "- All the objects from the same type can receive the same messages"
   ]
  },
  {
   "cell_type": "markdown",
   "metadata": {},
   "source": [
    "## CLASS"
   ]
  },
  {
   "cell_type": "markdown",
   "metadata": {},
   "source": [
    "La Classe è un tipo di oggetto. Possiede attributi e metodi.\n",
    "\n",
    "La classe definisce attributi e metodi.\n",
    "\n",
    "Gli oggetti sono fatti a immagine e somiglianza della classe di appartenenza.\n",
    "\n",
    "Vedi esempio (brutto) delle torte di Morgana.\n",
    "\n"
   ]
  },
  {
   "cell_type": "code",
   "execution_count": 181,
   "metadata": {},
   "outputs": [],
   "source": [
    "class Cake:\n",
    "    def __init__ (self, main_ingredients, allergens, chocolate, cake_type, degree = 180):  # SELF si riferisce al mio oggetto, mentre gli altri sono i relativi attributi\n",
    "        self.main_ingredients = main_ingredients    # la funzione viene creata nella classe, e potrà esistere solo al suo interno.\n",
    "        self.allergens = allergens\n",
    "        self.chocolate = chocolate\n",
    "        self.cake_type = cake_type\n",
    "        #make degree private\n",
    "        self.__degree = degree\n",
    "    \n",
    "    def get_allergens(self):\n",
    "        print(f\"This cake contains {\", \".join(self.allergens)}\")\n",
    "\n",
    "    def get_baking_time(self):\n",
    "        if self.__degree < 200:\n",
    "            return 30\n",
    "        else:\n",
    "            return 20\n",
    "        \n",
    "    def increase_degree(self, d = 10):\n",
    "        self.__degree += d\n",
    "\n",
    "    def get_degree(self):\n",
    "        return self.__degree\n",
    "    \n",
    "    def reset_degree(self):\n",
    "        self.__degree = 180\n",
    "    \n",
    "        "
   ]
  },
  {
   "cell_type": "code",
   "execution_count": 182,
   "metadata": {},
   "outputs": [],
   "source": [
    "pear_fondant = Cake([\"flour\", \"almond\", \"pear\", \"chocolate\"],\n",
    "                    [\"Gluten\", \"lactose\"],\n",
    "                    chocolate = True,\n",
    "                    cake_type =\"fondant\",\n",
    "                    degree= 220\n",
    "                    )"
   ]
  },
  {
   "cell_type": "code",
   "execution_count": 183,
   "metadata": {},
   "outputs": [
    {
     "data": {
      "text/plain": [
       "__main__.Cake"
      ]
     },
     "execution_count": 183,
     "metadata": {},
     "output_type": "execute_result"
    }
   ],
   "source": [
    "type(pear_fondant)      #pear_fondant è *un'istanza* della classe Cake"
   ]
  },
  {
   "cell_type": "code",
   "execution_count": 184,
   "metadata": {},
   "outputs": [
    {
     "data": {
      "text/plain": [
       "['Gluten', 'lactose']"
      ]
     },
     "execution_count": 184,
     "metadata": {},
     "output_type": "execute_result"
    }
   ],
   "source": [
    "pear_fondant.allergens"
   ]
  },
  {
   "cell_type": "code",
   "execution_count": 185,
   "metadata": {},
   "outputs": [
    {
     "data": {
      "text/plain": [
       "['flour', 'almond', 'pear', 'chocolate']"
      ]
     },
     "execution_count": 185,
     "metadata": {},
     "output_type": "execute_result"
    }
   ],
   "source": [
    "pear_fondant.main_ingredients"
   ]
  },
  {
   "cell_type": "code",
   "execution_count": 186,
   "metadata": {},
   "outputs": [
    {
     "data": {
      "text/plain": [
       "['Gluten', 'lactose']"
      ]
     },
     "execution_count": 186,
     "metadata": {},
     "output_type": "execute_result"
    }
   ],
   "source": [
    "pear_fondant.allergens"
   ]
  },
  {
   "cell_type": "code",
   "execution_count": 187,
   "metadata": {},
   "outputs": [
    {
     "ename": "AttributeError",
     "evalue": "'Cake' object has no attribute 'degree'",
     "output_type": "error",
     "traceback": [
      "\u001b[1;31m---------------------------------------------------------------------------\u001b[0m",
      "\u001b[1;31mAttributeError\u001b[0m                            Traceback (most recent call last)",
      "Cell \u001b[1;32mIn[187], line 1\u001b[0m\n\u001b[1;32m----> 1\u001b[0m \u001b[43mpear_fondant\u001b[49m\u001b[38;5;241;43m.\u001b[39;49m\u001b[43mdegree\u001b[49m\n",
      "\u001b[1;31mAttributeError\u001b[0m: 'Cake' object has no attribute 'degree'"
     ]
    }
   ],
   "source": [
    "pear_fondant.degree"
   ]
  },
  {
   "cell_type": "code",
   "execution_count": null,
   "metadata": {},
   "outputs": [],
   "source": []
  },
  {
   "cell_type": "code",
   "execution_count": 123,
   "metadata": {},
   "outputs": [],
   "source": [
    "brownie_sunday = Cake([\"flour\", \"eggs\", \"butter\", \"chocolate\"],\n",
    "               allergens=[\"gluten\", \"lactose\"],\n",
    "               chocolate=True,\n",
    "               cake_type= \"Brownie\"\n",
    "               )"
   ]
  },
  {
   "cell_type": "code",
   "execution_count": 124,
   "metadata": {},
   "outputs": [
    {
     "data": {
      "text/plain": [
       "220"
      ]
     },
     "execution_count": 124,
     "metadata": {},
     "output_type": "execute_result"
    }
   ],
   "source": [
    "pear_fondant.degree   # pear_fondant is the object and .degree is the method"
   ]
  },
  {
   "cell_type": "code",
   "execution_count": 125,
   "metadata": {},
   "outputs": [
    {
     "data": {
      "text/plain": [
       "180"
      ]
     },
     "execution_count": 125,
     "metadata": {},
     "output_type": "execute_result"
    }
   ],
   "source": [
    "brownie_sunday.degree    # brownie_sunday is the object and .degree is the method"
   ]
  },
  {
   "cell_type": "code",
   "execution_count": 126,
   "metadata": {},
   "outputs": [
    {
     "name": "stdout",
     "output_type": "stream",
     "text": [
      "This cake contains Gluten, lactose\n"
     ]
    }
   ],
   "source": [
    "pear_fondant.get_allergens()     # SERVONO LE PARENTESI PERCHE' E' UNA FUNZIONE"
   ]
  },
  {
   "cell_type": "code",
   "execution_count": 127,
   "metadata": {},
   "outputs": [
    {
     "data": {
      "text/plain": [
       "30"
      ]
     },
     "execution_count": 127,
     "metadata": {},
     "output_type": "execute_result"
    }
   ],
   "source": [
    "brownie_sunday.get_baking_time()    # SERVONO LE PARENTESI PERCHE' E' UNA FUNZIONE"
   ]
  },
  {
   "cell_type": "code",
   "execution_count": 128,
   "metadata": {},
   "outputs": [],
   "source": [
    "pear_fondant.degree = 190"
   ]
  },
  {
   "cell_type": "code",
   "execution_count": 129,
   "metadata": {},
   "outputs": [
    {
     "data": {
      "text/plain": [
       "190"
      ]
     },
     "execution_count": 129,
     "metadata": {},
     "output_type": "execute_result"
    }
   ],
   "source": [
    "pear_fondant.degree    # NON SERVONO LE PARENTESI ALLA FINE PERCHE' E' UN METODO"
   ]
  },
  {
   "cell_type": "code",
   "execution_count": 130,
   "metadata": {},
   "outputs": [],
   "source": [
    "del(pear_fondant.degree)"
   ]
  },
  {
   "cell_type": "code",
   "execution_count": 131,
   "metadata": {},
   "outputs": [],
   "source": [
    "pear_fondant.degree = 220"
   ]
  },
  {
   "cell_type": "code",
   "execution_count": 132,
   "metadata": {},
   "outputs": [],
   "source": [
    "d = pear_fondant.__dict__"
   ]
  },
  {
   "cell_type": "code",
   "execution_count": 133,
   "metadata": {},
   "outputs": [
    {
     "data": {
      "text/plain": [
       "dict"
      ]
     },
     "execution_count": 133,
     "metadata": {},
     "output_type": "execute_result"
    }
   ],
   "source": [
    "type(d)"
   ]
  },
  {
   "cell_type": "code",
   "execution_count": 134,
   "metadata": {},
   "outputs": [
    {
     "data": {
      "text/plain": [
       "{'main_ingredients': ['flour', 'almond', 'pear', 'chocolate'],\n",
       " 'allergens': ['Gluten', 'lactose'],\n",
       " 'chocolate': True,\n",
       " 'cake_type': 'fondant',\n",
       " 'degree': 220}"
      ]
     },
     "execution_count": 134,
     "metadata": {},
     "output_type": "execute_result"
    }
   ],
   "source": [
    "d"
   ]
  },
  {
   "cell_type": "code",
   "execution_count": 135,
   "metadata": {},
   "outputs": [],
   "source": [
    "class NewClass():\n",
    "    pass"
   ]
  },
  {
   "cell_type": "code",
   "execution_count": 136,
   "metadata": {},
   "outputs": [],
   "source": [
    "nc = NewClass()"
   ]
  },
  {
   "cell_type": "code",
   "execution_count": 137,
   "metadata": {},
   "outputs": [
    {
     "data": {
      "text/plain": [
       "{}"
      ]
     },
     "execution_count": 137,
     "metadata": {},
     "output_type": "execute_result"
    }
   ],
   "source": [
    "nc.__dict__"
   ]
  },
  {
   "cell_type": "code",
   "execution_count": 148,
   "metadata": {},
   "outputs": [
    {
     "data": {
      "text/plain": [
       "180"
      ]
     },
     "execution_count": 148,
     "metadata": {},
     "output_type": "execute_result"
    }
   ],
   "source": [
    "pear_fondant.degree"
   ]
  },
  {
   "cell_type": "code",
   "execution_count": 176,
   "metadata": {},
   "outputs": [],
   "source": [
    "pear_fondant.increase_degree()"
   ]
  },
  {
   "cell_type": "code",
   "execution_count": 141,
   "metadata": {},
   "outputs": [],
   "source": [
    "pear_fondant.reset_degree()"
   ]
  },
  {
   "cell_type": "code",
   "execution_count": 177,
   "metadata": {},
   "outputs": [
    {
     "data": {
      "text/plain": [
       "230"
      ]
     },
     "execution_count": 177,
     "metadata": {},
     "output_type": "execute_result"
    }
   ],
   "source": [
    "pear_fondant.get_degree()"
   ]
  },
  {
   "cell_type": "code",
   "execution_count": 153,
   "metadata": {},
   "outputs": [
    {
     "data": {
      "text/plain": [
       "{'main_ingredients': ['flour', 'almond', 'pear', 'chocolate'],\n",
       " 'allergens': ['Gluten', 'lactose'],\n",
       " 'chocolate': True,\n",
       " 'cake_type': 'fondant',\n",
       " 'degree': 180}"
      ]
     },
     "execution_count": 153,
     "metadata": {},
     "output_type": "execute_result"
    }
   ],
   "source": [
    "pear_fondant.__dict__"
   ]
  },
  {
   "cell_type": "markdown",
   "metadata": {},
   "source": [
    "## ULTIMI ESERCIZI PYTHON II"
   ]
  },
  {
   "cell_type": "markdown",
   "metadata": {},
   "source": [
    "Create a fun computer game character called 'Speedy.' This character has four legs and is incredibly fast. Design a Python class named 'Speedy' with a constructor that prints 'Speedy has arrived!' every time a new Speedy character is added to the game.\n",
    "\n",
    "Additionally, add a method called 'run' to the 'Speedy' class, which prints 'Zoom! Speedy is running like the wind!' when it runs.\n",
    "\n",
    "Write a Python script to bring your Speedy character to life. Experience the excitement as you watch Speedy in action, racing across the game world."
   ]
  },
  {
   "cell_type": "code",
   "execution_count": 4,
   "metadata": {},
   "outputs": [
    {
     "name": "stdout",
     "output_type": "stream",
     "text": [
      "Speedy has arrived!\n",
      "Zoom! Speedy is running like the wind!\n"
     ]
    }
   ],
   "source": [
    "class Speedy:\n",
    "    def __init__(self):\n",
    "        print(f\"Speedy has arrived!\")\n",
    "\n",
    "    def run(self):\n",
    "        print(f\"Zoom! Speedy is running like the wind!\")\n",
    "\n",
    "\n",
    "Speedy().run()"
   ]
  },
  {
   "cell_type": "markdown",
   "metadata": {},
   "source": [
    "In your computer game, there's a lovable character called \"Buddy\" – an adorable Animal with four legs and a penchant for running. You want to add some new features to Buddy:\n",
    "\n",
    "Tasks:\n",
    "\n",
    "Enhance the Animal class with a method called count_legs, which displays the number of legs Buddy has.\n",
    "\n",
    "Add a method named return_legs to the Animal class, which returns the number of legs Buddy has.\n",
    "\n",
    "Create an instance of the Animal class for Buddy, with four legs.\n",
    "\n",
    "Print the number of legs directly from Buddy's object variable, number_of_legs."
   ]
  },
  {
   "cell_type": "code",
   "execution_count": 9,
   "metadata": {},
   "outputs": [
    {
     "data": {
      "text/plain": [
       "4"
      ]
     },
     "execution_count": 9,
     "metadata": {},
     "output_type": "execute_result"
    }
   ],
   "source": [
    "class Animal:\n",
    "    def __init__(self, legs):\n",
    "        self.number_of_legs = legs\n",
    "    \n",
    "    def count_legs(self):\n",
    "        print(f\"Buddy has {self.number_of_legs} legs.\")\n",
    "    \n",
    "    def return_legs(self):\n",
    "        return self.number_of_legs\n",
    "    \n",
    "buddy = Animal(legs = 4)\n",
    "\n",
    "buddy.number_of_legs\n",
    "\n",
    "    "
   ]
  },
  {
   "cell_type": "markdown",
   "metadata": {},
   "source": [
    "In a delightful computer game, we've introduced a charming character named \"Fluffy\" – an adorable Animal with four legs, and it possesses an incredible talent for running. To protect Fluffy's leg count from being directly accessed, we decide to follow Python's convention by using a variable name with a prefix of '_' to indicate that it should not be accessed directly.\n",
    "\n",
    "Update the leg_count variable to _legs in the Animal class, signaling that it should not be accessed directly.\n",
    "Introduce a new method called get_legs in the Animal class that allows controlled access to the number of legs.\n",
    "Create an instance of the Animal class representing Fluffy, with four legs.\n",
    "Utilize the get_legs method to print the number of legs Fluffy has.\n",
    "By making these changes, we can ensure that Fluffy's leg count is protected and can only be accessed through the designated method."
   ]
  },
  {
   "cell_type": "code",
   "execution_count": 10,
   "metadata": {},
   "outputs": [
    {
     "name": "stdout",
     "output_type": "stream",
     "text": [
      "Fluffy, the Animal, has joined the game!\n",
      "Fluffy is running gracefully!\n",
      "Fluffy's number of legs: 4\n"
     ]
    }
   ],
   "source": [
    "class Animal:\n",
    "    # Constructor to initialize Fluffy with a given number of legs\n",
    "    def __init__(self, legs):\n",
    "        self._legs = legs\n",
    "        print(\"Fluffy, the Animal, has joined the game!\")\n",
    "\n",
    "    # Method to simulate Fluffy running\n",
    "    def run(self):\n",
    "        print(\"Fluffy is running gracefully!\")\n",
    "\n",
    "    # Method to return the number of legs for Fluffy\n",
    "    def get_legs(self):\n",
    "        return self._legs\n",
    "\n",
    "fluffy = Animal(legs=4)\n",
    "\n",
    "fluffy.run()\n",
    "\n",
    "print(f\"Fluffy's number of legs: {fluffy.get_legs()}\")"
   ]
  },
  {
   "cell_type": "markdown",
   "metadata": {},
   "source": [
    "Your game is evolving and you're adding a new character: a Dog. This Dog is a type of Animal, but with some extra features. Your tasks are:\n",
    "\n",
    "Define a Dog class that inherits from the Animal class.\n",
    "Add a private attribute name to the Dog class.\n",
    "Add a bark method to the Dog class that prints \"woof woof\".\n",
    "Create an instance of the Dog class with a name and 4 legs.\n",
    "Print the name of the dog, make it bark, and count its legs."
   ]
  },
  {
   "cell_type": "code",
   "execution_count": 17,
   "metadata": {},
   "outputs": [
    {
     "name": "stdout",
     "output_type": "stream",
     "text": [
      "Fluffy, the Animal, has joined the game!\n",
      "Fido\n",
      "woof woof\n",
      "This dog has 4 legs.\n"
     ]
    }
   ],
   "source": [
    "class Dog(Animal):\n",
    "    def __init__(self, legs, name):\n",
    "        super().__init__(legs)\n",
    "        self._name = name\n",
    "\n",
    "    def bark(self):\n",
    "        print(f\"woof woof\")\n",
    "\n",
    "    def count_legs(self):\n",
    "        print(f\"This dog has {self._legs} legs.\")\n",
    "\n",
    "\n",
    "fido = Dog(legs = 4, name = \"Fido\")\n",
    "print(fido._name)\n",
    "fido.bark()\n",
    "fido.count_legs()\n"
   ]
  },
  {
   "cell_type": "markdown",
   "metadata": {},
   "source": [
    "## Continua"
   ]
  },
  {
   "cell_type": "code",
   "execution_count": 19,
   "metadata": {},
   "outputs": [
    {
     "name": "stdout",
     "output_type": "stream",
     "text": [
      "C\n"
     ]
    }
   ],
   "source": [
    "x = \"Carmelo\"[0]\n",
    "print(x)"
   ]
  },
  {
   "cell_type": "code",
   "execution_count": 20,
   "metadata": {},
   "outputs": [
    {
     "name": "stdout",
     "output_type": "stream",
     "text": [
      "Carmelo\n"
     ]
    }
   ],
   "source": [
    "print('Carmelo')"
   ]
  }
 ],
 "metadata": {
  "kernelspec": {
   "display_name": "Python 3",
   "language": "python",
   "name": "python3"
  },
  "language_info": {
   "codemirror_mode": {
    "name": "ipython",
    "version": 3
   },
   "file_extension": ".py",
   "mimetype": "text/x-python",
   "name": "python",
   "nbconvert_exporter": "python",
   "pygments_lexer": "ipython3",
   "version": "3.12.8"
  }
 },
 "nbformat": 4,
 "nbformat_minor": 2
}
