{
 "cells": [
  {
   "cell_type": "markdown",
   "metadata": {},
   "source": [
    "# Bitta Parking\n",
    "\n",
    "## Il Bitta Parking è un parcheggio a 5 livelli, con numero variabile di posti, riservato esclusivamente agli Alfisti"
   ]
  },
  {
   "cell_type": "markdown",
   "metadata": {},
   "source": [
    "## REQUISITI:\n",
    "\n",
    "- occupiamo i piani a partire dal primo\n",
    "- il 5° piano è riservato alla famiglia Bitta (5 posti)\n",
    "- i clienti pagano in base al tempo di permanenza (€5/h)\n",
    "- sono ammessi solo i possessori di Alfa Romeo e Camper\n",
    "- Se il 5° piano è pieno e arriva un 6° Bitta, gli diciamo che non c'è posto"
   ]
  },
  {
   "cell_type": "markdown",
   "metadata": {},
   "source": [
    "## CODICE"
   ]
  },
  {
   "cell_type": "code",
   "execution_count": 124,
   "metadata": {},
   "outputs": [],
   "source": [
    "from datetime import datetime"
   ]
  },
  {
   "cell_type": "code",
   "execution_count": 125,
   "metadata": {},
   "outputs": [],
   "source": [
    "parking = {\"level1\": {\"total_lot\": 10,\n",
    "                      \"taken_lot\": 5},\n",
    "           \"level2\": {\"total_lot\": 20,\n",
    "                      \"taken_lot\": 7},\n",
    "           \"level3\": {\"total_lot\": 39,\n",
    "                      \"taken_lot\": 38},                   # uso un dizionario nel dizionario perché i valori sono più di uno.\n",
    "           \"level4\": {\"total_lot\": 50,\n",
    "                      \"taken_lot\": 50},\n",
    "           \"level5\": {\"total_lot\": 5,                     # nel caso di un solo valore (ad es. taken_lot), basterebbe scrivere parking = {\"level4\": 50}\n",
    "                      \"taken_lot\": 0},  \n",
    "           }\n",
    "\n",
    "auto = {\"AX555LM\": {\"entry\": datetime.now(),              # datetime.now() inserisce data e ora del momento in cui inseriremo la targa\n",
    "                    \"level\": \"level1\"},\n",
    "        \"CW907ZE\": {\"entry\": datetime.now(),\n",
    "                    \"level\": \"level3\"}                         \n",
    "        }\n",
    "\n"
   ]
  },
  {
   "cell_type": "code",
   "execution_count": 126,
   "metadata": {},
   "outputs": [],
   "source": [
    "#check if vehicle is an Alfa Romeo or a Camper\n",
    "\n",
    "def check_vehicle():\n",
    "    answer = input(f\"Is this vehicle an Alfa Romeo or a Camper? [Y/N] \").lower()\n",
    "    \n",
    "    if answer == \"y\":\n",
    "        return True\n",
    "    elif answer == \"n\":\n",
    "        return False\n",
    "    else:\n",
    "        check_vehicle()\n",
    "    "
   ]
  },
  {
   "cell_type": "code",
   "execution_count": 127,
   "metadata": {},
   "outputs": [],
   "source": [
    "#check if the driver is a member of the Bitta family\n",
    "\n",
    "def is_bitta ():\n",
    "    answer = input(f\"Are you a Bitta? [Y/N] \").lower()\n",
    "    \n",
    "    if answer == \"y\":\n",
    "        return True\n",
    "    elif answer == \"n\":\n",
    "        return False\n",
    "    else:\n",
    "        is_bitta()"
   ]
  },
  {
   "cell_type": "markdown",
   "metadata": {},
   "source": [
    "#### Come faccio a richiamare chiavi e valori di un dizionario? Esempi:"
   ]
  },
  {
   "cell_type": "code",
   "execution_count": 128,
   "metadata": {},
   "outputs": [
    {
     "data": {
      "text/plain": [
       "{'total_lot': 5, 'taken_lot': 0}"
      ]
     },
     "execution_count": 128,
     "metadata": {},
     "output_type": "execute_result"
    }
   ],
   "source": [
    "parking[\"level5\"]\n"
   ]
  },
  {
   "cell_type": "code",
   "execution_count": 129,
   "metadata": {},
   "outputs": [
    {
     "data": {
      "text/plain": [
       "5"
      ]
     },
     "execution_count": 129,
     "metadata": {},
     "output_type": "execute_result"
    }
   ],
   "source": [
    "parking[\"level5\"][\"total_lot\"]"
   ]
  },
  {
   "cell_type": "code",
   "execution_count": 130,
   "metadata": {},
   "outputs": [
    {
     "data": {
      "text/plain": [
       "0"
      ]
     },
     "execution_count": 130,
     "metadata": {},
     "output_type": "execute_result"
    }
   ],
   "source": [
    "parking[\"level5\"][\"taken_lot\"]"
   ]
  },
  {
   "cell_type": "markdown",
   "metadata": {},
   "source": [
    "#### Continua codice"
   ]
  },
  {
   "cell_type": "code",
   "execution_count": 131,
   "metadata": {},
   "outputs": [],
   "source": [
    "#check if Bitta's spots are available\n",
    "\n",
    "def check_Bitta_spot_available ():\n",
    "    level5_total_lot = parking[\"level5\"][\"total_lot\"]\n",
    "    level5_taken_lot = parking[\"level5\"][\"taken_lot\"]\n",
    "    level5_spot_available = (level5_total_lot - level5_taken_lot) > 0\n",
    "    return level5_spot_available     #sarà un True o un False, perché se c'è parcheggio mi farà entrare, altrimenti no"
   ]
  },
  {
   "cell_type": "markdown",
   "metadata": {},
   "source": [
    "#### Vediamo la funzione esempio_check_standard_spot_available() e come lavora:"
   ]
  },
  {
   "cell_type": "code",
   "execution_count": 132,
   "metadata": {},
   "outputs": [],
   "source": [
    "def esempio_check_standard_spot_available():\n",
    "    for livello, livello_info in parking.items():      # level è la chiave, level_info è il valore (in questo caso, il dizionario associato ai level del parking)\n",
    "        print(f\"CHIAVE - livello: {livello}\\nVALORE - livello_info: {livello_info}\\n\")"
   ]
  },
  {
   "cell_type": "code",
   "execution_count": 133,
   "metadata": {},
   "outputs": [
    {
     "name": "stdout",
     "output_type": "stream",
     "text": [
      "CHIAVE - livello: level1\n",
      "VALORE - livello_info: {'total_lot': 10, 'taken_lot': 5}\n",
      "\n",
      "CHIAVE - livello: level2\n",
      "VALORE - livello_info: {'total_lot': 20, 'taken_lot': 7}\n",
      "\n",
      "CHIAVE - livello: level3\n",
      "VALORE - livello_info: {'total_lot': 39, 'taken_lot': 38}\n",
      "\n",
      "CHIAVE - livello: level4\n",
      "VALORE - livello_info: {'total_lot': 50, 'taken_lot': 50}\n",
      "\n",
      "CHIAVE - livello: level5\n",
      "VALORE - livello_info: {'total_lot': 5, 'taken_lot': 0}\n",
      "\n"
     ]
    }
   ],
   "source": [
    "esempio_check_standard_spot_available()"
   ]
  },
  {
   "cell_type": "markdown",
   "metadata": {},
   "source": [
    "#### Continua codice"
   ]
  },
  {
   "cell_type": "code",
   "execution_count": 134,
   "metadata": {},
   "outputs": [],
   "source": [
    "def check_standard_spot_available():\n",
    "    for level, level_info in parking.items():\n",
    "        if level == \"level5\":\n",
    "            break\n",
    "        total_lot = level_info[\"total_lot\"]\n",
    "        taken_lot = level_info[\"taken_lot\"]\n",
    "        spot_available = (total_lot - taken_lot) > 0\n",
    "        if spot_available:\n",
    "            return spot_available, level\n",
    "    return spot_available                            # funziona solo nel caso in cui non c'è posto in nessuno dei 4 livelli\n",
    "    "
   ]
  },
  {
   "cell_type": "code",
   "execution_count": 135,
   "metadata": {},
   "outputs": [],
   "source": [
    "def add_taken_spot(level):\n",
    "    parking[level][\"taken_lot\"] += 1\n"
   ]
  },
  {
   "cell_type": "code",
   "execution_count": 136,
   "metadata": {},
   "outputs": [],
   "source": [
    "def add_auto(level):\n",
    "    plate = input(f\"Please, insert license plate: \").upper()\n",
    "    auto[plate] = {} # add plate to dictionary auto\n",
    "    auto[plate][\"entry\"] = datetime.now() # add entry time\n",
    "    auto[plate][\"level\"] = level # add level associated to the plate\n",
    "    add_taken_spot(level)\n",
    "    "
   ]
  },
  {
   "cell_type": "code",
   "execution_count": 137,
   "metadata": {},
   "outputs": [],
   "source": [
    "def remove_taken_spot(level):\n",
    "    parking[level][\"taken_lot\"] -= 1"
   ]
  },
  {
   "cell_type": "code",
   "execution_count": 138,
   "metadata": {},
   "outputs": [],
   "source": [
    "def remove_auto(plate):\n",
    "    entry_time = auto[plate][\"entry\"]\n",
    "    level_info = auto[plate][\"level\"]\n",
    "    remove_taken_spot(level_info)\n",
    "\n",
    "    # calcolare il prezzo da pagare\n",
    "    # rimuovere l'auto dal dizionario"
   ]
  }
 ],
 "metadata": {
  "kernelspec": {
   "display_name": "Python 3",
   "language": "python",
   "name": "python3"
  },
  "language_info": {
   "codemirror_mode": {
    "name": "ipython",
    "version": 3
   },
   "file_extension": ".py",
   "mimetype": "text/x-python",
   "name": "python",
   "nbconvert_exporter": "python",
   "pygments_lexer": "ipython3",
   "version": "3.12.8"
  }
 },
 "nbformat": 4,
 "nbformat_minor": 2
}
