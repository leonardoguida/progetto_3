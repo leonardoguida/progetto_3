{
 "cells": [
  {
   "cell_type": "markdown",
   "metadata": {},
   "source": [
    "# Bitta Parking\n",
    "\n",
    "## Il Bitta Parking è un parcheggio a 5 livelli, con numero variabile di posti, riservato esclusivamente agli Alfisti"
   ]
  },
  {
   "cell_type": "markdown",
   "metadata": {},
   "source": [
    "## REQUISITI:\n",
    "\n",
    "- occupiamo i piani a partire dal primo\n",
    "- il 5° piano è riservato alla famiglia Bitta (5 posti)\n",
    "- i clienti pagano in base al tempo di permanenza (€5/h)\n",
    "- sono ammessi solo i possessori di Alfa Romeo e Camper\n",
    "- Se il 5° piano è pieno e arriva un 6° Bitta, gli diciamo che non c'è posto"
   ]
  },
  {
   "cell_type": "markdown",
   "metadata": {},
   "source": [
    "## CODICE"
   ]
  },
  {
   "cell_type": "code",
   "execution_count": 29,
   "metadata": {},
   "outputs": [],
   "source": [
    "from datetime import datetime"
   ]
  },
  {
   "cell_type": "code",
   "execution_count": 30,
   "metadata": {},
   "outputs": [],
   "source": [
    "parking = {\"level1\": {\"total_lot\": 10,\n",
    "                      \"taken_lot\": 5},\n",
    "           \"level2\": {\"total_lot\": 20,\n",
    "                      \"taken_lot\": 7},\n",
    "           \"level3\": {\"total_lot\": 39,\n",
    "                      \"taken_lot\": 38},                   # uso un dizionario nel dizionario perché i valori sono più di uno.\n",
    "           \"level4\": {\"total_lot\": 50,\n",
    "                      \"taken_lot\": 50},\n",
    "           \"level5\": {\"total_lot\": 5,                     # nel caso di un solo valore (ad es. taken_lot), basterebbe scrivere parking = {\"level4\": 50}\n",
    "                      \"taken_lot\": 0},  \n",
    "           }\n",
    "\n",
    "auto = {\"AX555LM\": {\"entry\": datetime.now(),              # datetime.now() inserisce data e ora del momento in cui inseriremo la targa\n",
    "                    \"level\": \"level1\"},\n",
    "        \"CW907ZE\": {\"entry\": datetime.now(),\n",
    "                    \"level\": \"level3\"}                         \n",
    "        }\n",
    "\n"
   ]
  },
  {
   "cell_type": "code",
   "execution_count": 31,
   "metadata": {},
   "outputs": [],
   "source": [
    "#check if vehicle is an Alfa Romeo or a Camper\n",
    "\n",
    "def check_vehicle():\n",
    "    answer = input(f\"Is this vehicle an Alfa Romeo or a Camper? [Y/N] \").lower()\n",
    "    \n",
    "    if answer == \"y\":\n",
    "        return True\n",
    "    elif answer == \"n\":\n",
    "        return False\n",
    "    else:\n",
    "        check_vehicle()\n",
    "    "
   ]
  },
  {
   "cell_type": "code",
   "execution_count": 32,
   "metadata": {},
   "outputs": [],
   "source": [
    "#check if the driver is a member of the Bitta family\n",
    "\n",
    "def is_Bitta():\n",
    "    answer = input(f\"Are you a Bitta? [Y/N] \").lower()\n",
    "    \n",
    "    if answer == \"y\":\n",
    "        return True\n",
    "    elif answer == \"n\":\n",
    "        return False\n",
    "    else:\n",
    "        is_Bitta()"
   ]
  },
  {
   "cell_type": "markdown",
   "metadata": {},
   "source": [
    "#### Come faccio a richiamare chiavi e valori di un dizionario? Esempi:"
   ]
  },
  {
   "cell_type": "code",
   "execution_count": 33,
   "metadata": {},
   "outputs": [
    {
     "data": {
      "text/plain": [
       "{'total_lot': 5, 'taken_lot': 0}"
      ]
     },
     "execution_count": 33,
     "metadata": {},
     "output_type": "execute_result"
    }
   ],
   "source": [
    "parking[\"level5\"]\n"
   ]
  },
  {
   "cell_type": "code",
   "execution_count": 34,
   "metadata": {},
   "outputs": [
    {
     "data": {
      "text/plain": [
       "5"
      ]
     },
     "execution_count": 34,
     "metadata": {},
     "output_type": "execute_result"
    }
   ],
   "source": [
    "parking[\"level5\"][\"total_lot\"]"
   ]
  },
  {
   "cell_type": "code",
   "execution_count": 35,
   "metadata": {},
   "outputs": [
    {
     "data": {
      "text/plain": [
       "0"
      ]
     },
     "execution_count": 35,
     "metadata": {},
     "output_type": "execute_result"
    }
   ],
   "source": [
    "parking[\"level5\"][\"taken_lot\"]"
   ]
  },
  {
   "cell_type": "markdown",
   "metadata": {},
   "source": [
    "#### Continua codice"
   ]
  },
  {
   "cell_type": "code",
   "execution_count": 36,
   "metadata": {},
   "outputs": [],
   "source": [
    "#check if Bitta's spots are available\n",
    "\n",
    "def check_Bitta_spot_available():\n",
    "    level5_total_lot = parking[\"level5\"][\"total_lot\"]\n",
    "    level5_taken_lot = parking[\"level5\"][\"taken_lot\"]\n",
    "    level5_spot_available = (level5_total_lot - level5_taken_lot) > 0\n",
    "    return level5_spot_available     #sarà un True o un False, perché se c'è parcheggio mi farà entrare, altrimenti no"
   ]
  },
  {
   "cell_type": "markdown",
   "metadata": {},
   "source": [
    "#### Vediamo la funzione esempio_check_standard_spot_available() e come lavora:"
   ]
  },
  {
   "cell_type": "code",
   "execution_count": 37,
   "metadata": {},
   "outputs": [],
   "source": [
    "def esempio_check_standard_spot_available():\n",
    "    for livello, livello_info in parking.items():      # level è la chiave, level_info è il valore (in questo caso, il dizionario associato ai level del parking)\n",
    "        print(f\"CHIAVE - livello: {livello}\\nVALORE - livello_info: {livello_info}\\n\")"
   ]
  },
  {
   "cell_type": "code",
   "execution_count": 38,
   "metadata": {},
   "outputs": [
    {
     "name": "stdout",
     "output_type": "stream",
     "text": [
      "CHIAVE - livello: level1\n",
      "VALORE - livello_info: {'total_lot': 10, 'taken_lot': 5}\n",
      "\n",
      "CHIAVE - livello: level2\n",
      "VALORE - livello_info: {'total_lot': 20, 'taken_lot': 7}\n",
      "\n",
      "CHIAVE - livello: level3\n",
      "VALORE - livello_info: {'total_lot': 39, 'taken_lot': 38}\n",
      "\n",
      "CHIAVE - livello: level4\n",
      "VALORE - livello_info: {'total_lot': 50, 'taken_lot': 50}\n",
      "\n",
      "CHIAVE - livello: level5\n",
      "VALORE - livello_info: {'total_lot': 5, 'taken_lot': 0}\n",
      "\n"
     ]
    }
   ],
   "source": [
    "esempio_check_standard_spot_available()"
   ]
  },
  {
   "cell_type": "markdown",
   "metadata": {},
   "source": [
    "#### Continua codice"
   ]
  },
  {
   "cell_type": "code",
   "execution_count": 39,
   "metadata": {},
   "outputs": [],
   "source": [
    "def check_standard_spot_available():\n",
    "    for level, level_info in parking.items():\n",
    "        if level == \"level5\":\n",
    "            break\n",
    "        total_lot = level_info[\"total_lot\"]\n",
    "        taken_lot = level_info[\"taken_lot\"]\n",
    "        spot_available = (total_lot - taken_lot) > 0\n",
    "        if spot_available:\n",
    "            return spot_available, level\n",
    "    return spot_available, level                            # funziona solo nel caso in cui non c'è posto in nessuno dei 4 livelli\n",
    "    "
   ]
  },
  {
   "cell_type": "code",
   "execution_count": 40,
   "metadata": {},
   "outputs": [],
   "source": [
    "def add_taken_spot(level):\n",
    "    parking[level][\"taken_lot\"] += 1\n"
   ]
  },
  {
   "cell_type": "code",
   "execution_count": 41,
   "metadata": {},
   "outputs": [],
   "source": [
    "def add_auto_to(level):\n",
    "    plate = input(f\"Please, insert license plate: \").upper()\n",
    "    auto[plate] = {} # add plate to dictionary auto\n",
    "    auto[plate][\"entry\"] = datetime.now() # add entry time\n",
    "    auto[plate][\"level\"] = level # add level associated to the plate\n",
    "    "
   ]
  },
  {
   "cell_type": "code",
   "execution_count": 42,
   "metadata": {},
   "outputs": [],
   "source": [
    "def add_auto(level):\n",
    "    add_auto_to(level)\n",
    "    add_taken_spot(level)"
   ]
  },
  {
   "cell_type": "code",
   "execution_count": 43,
   "metadata": {},
   "outputs": [],
   "source": [
    "def remove_taken_spot(level):\n",
    "    parking[level][\"taken_lot\"] -= 1"
   ]
  },
  {
   "cell_type": "code",
   "execution_count": 44,
   "metadata": {},
   "outputs": [],
   "source": [
    "def get_auto_info(plate):\n",
    "    entry_time = auto[plate][\"entry\"] # take entry time\n",
    "    level_info = auto[plate][\"level\"] #get the level\n",
    "    return entry_time, level_info"
   ]
  },
  {
   "cell_type": "code",
   "execution_count": 45,
   "metadata": {},
   "outputs": [],
   "source": [
    "def remove_plate(plate):\n",
    "    del auto[plate]\n"
   ]
  },
  {
   "cell_type": "code",
   "execution_count": 46,
   "metadata": {},
   "outputs": [],
   "source": [
    "def calculate_hours(entry_time):\n",
    "    now = datetime.now()\n",
    "    diff = now - entry_time\n",
    "    hours = diff.total_seconds()//3600       # how many seconds are in diff.total_seconds\n",
    "    print(\"hours:\", hours)\n",
    "    print(\"type(hours):\", type(hours))\n",
    "    return hours + 1"
   ]
  },
  {
   "cell_type": "code",
   "execution_count": 47,
   "metadata": {},
   "outputs": [],
   "source": [
    "def calculate_fare(entry_time):\n",
    "    hours = calculate_hours(entry_time)\n",
    "    hour_fare = 5\n",
    "    fare = hour_fare * hours\n",
    "    return fare\n"
   ]
  },
  {
   "cell_type": "code",
   "execution_count": 48,
   "metadata": {},
   "outputs": [
    {
     "name": "stdout",
     "output_type": "stream",
     "text": [
      "hours: 0.0\n",
      "type(hours): <class 'float'>\n",
      "1.0\n"
     ]
    }
   ],
   "source": [
    "print(calculate_hours(auto[\"CW907ZE\"][\"entry\"]))"
   ]
  },
  {
   "cell_type": "markdown",
   "metadata": {},
   "source": [
    "### to do \n",
    "- fare un controllo sulla presenza della targa sul DB quando l'auto è in uscita\n",
    "- controlli sulla targa"
   ]
  },
  {
   "cell_type": "code",
   "execution_count": 49,
   "metadata": {},
   "outputs": [],
   "source": [
    "def auto_in():\n",
    "    # check Alfa or Camper\n",
    "    is_alfa = check_vehicle()\n",
    "    if not is_alfa:\n",
    "        print(f\"You're not allowed\")\n",
    "        return\n",
    "    is_bitta = is_Bitta()\n",
    "\n",
    "    # select level for Bitta member \n",
    "    if is_bitta:\n",
    "        spot_available = check_Bitta_spot_available()\n",
    "        if not spot_available:\n",
    "            print(f\"There's not a spot available for a Bitta\")\n",
    "            return\n",
    "        else:\n",
    "            selected_level = \"level5\"\n",
    "    \n",
    "    # select level for a standard client\n",
    "    else:\n",
    "        spot_available, level = check_standard_spot_available()\n",
    "        if not spot_available:\n",
    "            print(f\"There's not a spot available\")\n",
    "            return\n",
    "        else:\n",
    "            selected_level = level\n",
    "\n",
    "    add_auto(selected_level)\n",
    "\n",
    "\n",
    "    \n",
    "        "
   ]
  },
  {
   "cell_type": "code",
   "execution_count": 50,
   "metadata": {},
   "outputs": [],
   "source": [
    "def remove_auto(level, plate):\n",
    "    remove_taken_spot(level)\n",
    "    remove_plate(plate)"
   ]
  },
  {
   "cell_type": "code",
   "execution_count": 51,
   "metadata": {},
   "outputs": [],
   "source": [
    "def auto_out():\n",
    "    plate = input(f\"What's the plate? \").upper()\n",
    "    if not plate in auto.keys():\n",
    "        print (f\"There's not a car with this plate!\")\n",
    "        return\n",
    "    entry_time, level_info = get_auto_info(plate)\n",
    "    \n",
    "    remove_auto(level_info, plate)\n",
    "\n",
    "    fare = calculate_fare(entry_time)\n",
    "\n",
    "    print(f\"You have to pay €{fare}\")\n"
   ]
  },
  {
   "cell_type": "code",
   "execution_count": 52,
   "metadata": {},
   "outputs": [
    {
     "data": {
      "text/plain": [
       "{'AX555LM': {'entry': datetime.datetime(2025, 1, 31, 12, 8, 46, 205551),\n",
       "  'level': 'level1'},\n",
       " 'CW907ZE': {'entry': datetime.datetime(2025, 1, 31, 12, 8, 46, 205551),\n",
       "  'level': 'level3'}}"
      ]
     },
     "execution_count": 52,
     "metadata": {},
     "output_type": "execute_result"
    }
   ],
   "source": [
    "auto"
   ]
  },
  {
   "cell_type": "code",
   "execution_count": 55,
   "metadata": {},
   "outputs": [],
   "source": [
    "def open():\n",
    "    var = input(f\"Are you entering? [y/n]\").lower()\n",
    "    if var == \"y\":\n",
    "        auto_in()\n",
    "    else:\n",
    "        auto_out()\n",
    "    open()\n"
   ]
  },
  {
   "cell_type": "code",
   "execution_count": 54,
   "metadata": {},
   "outputs": [
    {
     "name": "stdout",
     "output_type": "stream",
     "text": [
      "hours: 0.0\n",
      "type(hours): <class 'float'>\n",
      "You have to pay €5.0\n"
     ]
    }
   ],
   "source": [
    "auto_out()"
   ]
  },
  {
   "cell_type": "markdown",
   "metadata": {},
   "source": [
    "## EREDITARE UNA CLASSE"
   ]
  },
  {
   "cell_type": "code",
   "execution_count": 59,
   "metadata": {},
   "outputs": [],
   "source": [
    "class Human:\n",
    "    def __init__(self, name, age):\n",
    "        self.name = name\n",
    "        self.age = age\n",
    "\n",
    "    def greetings(self):\n",
    "        print(f\"Goodbyeee {self.name}!\")\n",
    "\n",
    "    def hello(self):\n",
    "        print(f\"Hello!\")\n",
    "\n",
    "\n",
    "\n",
    "class Employee(Human):\n",
    "    def __init__(self, name, age, position):\n",
    "        super().__init__(name, age)\n",
    "        self.position = position\n",
    "\n",
    "    def hello(self):\n",
    "        print(f\"Hello mother**cker\")"
   ]
  },
  {
   "cell_type": "code",
   "execution_count": 60,
   "metadata": {},
   "outputs": [],
   "source": [
    "employee = Employee(name = \"Pippo\", age = 52, position = \"Manager\")"
   ]
  },
  {
   "cell_type": "code",
   "execution_count": 61,
   "metadata": {},
   "outputs": [
    {
     "name": "stdout",
     "output_type": "stream",
     "text": [
      "Goodbyeee Pippo!\n"
     ]
    }
   ],
   "source": [
    "employee.greetings()"
   ]
  },
  {
   "cell_type": "code",
   "execution_count": 62,
   "metadata": {},
   "outputs": [
    {
     "name": "stdout",
     "output_type": "stream",
     "text": [
      "Hello mother**cker\n"
     ]
    }
   ],
   "source": [
    "employee.hello()"
   ]
  },
  {
   "cell_type": "markdown",
   "metadata": {},
   "source": [
    "## EREDITARE PIU' CLASSI"
   ]
  },
  {
   "cell_type": "code",
   "execution_count": 5,
   "metadata": {},
   "outputs": [],
   "source": [
    "class AutoBenzina:\n",
    "    def __init__(self, carburante, cilindrata):\n",
    "        self.carburante = carburante\n",
    "        self.cilindrata = cilindrata\n",
    "\n",
    "    def rifornimento(self):\n",
    "        print(f\"Pieno\")\n",
    "\n",
    "class AutoElettrica:\n",
    "    def __init__(self, batteria):\n",
    "        self.batteria = batteria\n",
    "\n",
    "    def ricarica(self):\n",
    "        print(f\"Carica\")\n",
    "\n",
    "class AutoIbrida(AutoBenzina, AutoElettrica):\n",
    "    def __init__(self, carburante, cilindrata, batteria, autonomia):\n",
    "        AutoBenzina.__init__(self, carburante, cilindrata)\n",
    "        AutoElettrica.__init__(self, batteria)\n",
    "        \n",
    "        self.autonomia = autonomia\n",
    "\n",
    "    def avvia_motore(self):\n",
    "        print(f\"Brummm\")"
   ]
  },
  {
   "cell_type": "code",
   "execution_count": 6,
   "metadata": {},
   "outputs": [],
   "source": [
    "yaris = AutoIbrida(carburante = \"Benzina\", cilindrata = 2089, batteria = 119, autonomia = 1174)"
   ]
  },
  {
   "cell_type": "code",
   "execution_count": 7,
   "metadata": {},
   "outputs": [
    {
     "name": "stdout",
     "output_type": "stream",
     "text": [
      "Pieno\n"
     ]
    }
   ],
   "source": [
    "yaris.rifornimento()"
   ]
  }
 ],
 "metadata": {
  "kernelspec": {
   "display_name": "Python 3",
   "language": "python",
   "name": "python3"
  },
  "language_info": {
   "codemirror_mode": {
    "name": "ipython",
    "version": 3
   },
   "file_extension": ".py",
   "mimetype": "text/x-python",
   "name": "python",
   "nbconvert_exporter": "python",
   "pygments_lexer": "ipython3",
   "version": "3.12.8"
  }
 },
 "nbformat": 4,
 "nbformat_minor": 2
}
