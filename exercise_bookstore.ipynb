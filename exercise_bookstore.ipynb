{
 "cells": [
  {
   "cell_type": "markdown",
   "metadata": {},
   "source": [
    "# Esercizio: Sistema di Valutazione Abbonamenti e Codice Sconto\n",
    "\n",
    "## Sistema di Valutazione Abbonamenti\n",
    "Un'azienda di servizi online vuole implementare un sistema che valuti se un cliente può accedere a un'offerta speciale. Le condizioni per accedere all'offerta sono le seguenti:\n",
    "\n",
    "1. Il cliente deve essere:\n",
    "- un utente attivo (campo booleano utente_attivo).\n",
    "- almeno 3 acquisti (numero_acquisti è un intero).\n",
    "- speso in totale almeno 100.50 euro (spesa_totale è un numero decimale).\n",
    "- no account sospesi (sospeso è un booleano).\n",
    "\n",
    "## Regole per il codice sconto\n",
    "5. L'utente riceve uno sconto calcolato come 30 - età.\n",
    "6. Se il valore risultante è negativo, lo sconto è considerato pari a 0.\n",
    "7. Lo sconto è valido solo per utenti attivi e non sospesi.\n",
    "\n",
    "## Obiettivo\n",
    "Scrivi un programma che:\n",
    "\n",
    "Definisca la funzione valuta_accesso:\n",
    "- Verifica se il cliente può accedere all'offerta speciale.\n",
    "\n",
    "Definisca la funzione input_dati:\n",
    "- Acquisisce i dati richiesti dall'utente. (hint: input)\n",
    "\n",
    "Definisca una nuova funzione calcola_sconto che:\n",
    "- Accetti come parametri:\n",
    "    - utente_attivo (booleano)\n",
    "    - sospeso (booleano)\n",
    "    - età (intero)\n",
    "- Calcoli lo sconto come 30 - età se l'utente è attivo e non sospeso.\n",
    "- Restituisca 0 se l'utente non soddisfa i requisiti o se lo sconto calcolato è negativo.\n",
    "\n",
    "Mostri all'utente:\n",
    "- Se può accedere all'offerta speciale.\n",
    "- L'ammontare dello sconto che gli spetta (se applicabile)."
   ]
  },
  {
   "cell_type": "code",
   "execution_count": null,
   "metadata": {},
   "outputs": [
    {
     "name": "stdout",
     "output_type": "stream",
     "text": [
      "Siamo spiacenti, non hai diritto a uno sconto.\n"
     ]
    }
   ],
   "source": [
    "# Input\n",
    "attività_cliente = input(\"Hai fatto acquisti negli ultimi 12 mesi? (True/False) \") == \"True\"\n",
    "sospensione_account = input(\"Hai mai sospeso il tuo account? (True/False) \") == \"False\"\n",
    "num_acquisti = int(input(\"Quanti acquisti hai fatto negli ultimi 12 mesi? \"))\n",
    "spesa_totale = float(input(\"Quanto hai speso in totale negli ultimi 12 mesi? (in euro) \"))\n",
    "età = int(input(\"Quanti anni hai? \"))\n",
    "\n",
    "# Funzione per verificare le condizioni dello sconto\n",
    "def condizioni_sconto(attività_cliente, num_acquisti, spesa_totale, sospensione_account, età):\n",
    "    cond_attività_cliente = attività_cliente\n",
    "    cond_sospensione_account = sospensione_account  # Senza not, perché il false è gia dichiarato nell'input di sospensione_account: - per - restituisce +, e sarebbe errato\n",
    "    cond_num_acquisti = num_acquisti >= 3\n",
    "    cond_spesa_totale = spesa_totale >= 100.50\n",
    "    cond_età = età <= 30\n",
    "    diritto_allo_sconto = cond_attività_cliente and cond_sospensione_account and cond_num_acquisti and cond_spesa_totale and cond_età\n",
    "    return diritto_allo_sconto\n",
    "\n",
    "# Funzione per calcolare lo sconto\n",
    "def calcolo_sconto(diritto_allo_sconto, età):\n",
    "    if not diritto_allo_sconto:\n",
    "        print(\"Siamo spiacenti, non hai diritto a uno sconto.\")\n",
    "        return 0\n",
    "\n",
    "    sconto = 30 - età\n",
    "    if sconto <= 0:\n",
    "        print(\"Siamo spiacenti, per ottenere lo sconto devi avere meno di 30 anni.\")\n",
    "        return 0\n",
    "\n",
    "    print(f\"Complimenti! Hai diritto a uno sconto del {sconto}%.\")\n",
    "    return sconto\n",
    "\n",
    "# Logica principale\n",
    "diritto_allo_sconto = condizioni_sconto(attività_cliente, num_acquisti, spesa_totale, sospensione_account, età)\n",
    "sconto = calcolo_sconto(diritto_allo_sconto, età)\n"
   ]
  },
  {
   "cell_type": "code",
   "execution_count": null,
   "metadata": {},
   "outputs": [
    {
     "ename": "NameError",
     "evalue": "name 'stringa_messa_in_input' is not defined",
     "output_type": "error",
     "traceback": [
      "\u001b[1;31m---------------------------------------------------------------------------\u001b[0m",
      "\u001b[1;31mNameError\u001b[0m                                 Traceback (most recent call last)",
      "Cell \u001b[1;32mIn[58], line 28\u001b[0m\n\u001b[0;32m     24\u001b[0m         sconto \u001b[38;5;241m=\u001b[39m \u001b[38;5;241m0\u001b[39m\n\u001b[0;32m     25\u001b[0m     \u001b[38;5;28;01mreturn\u001b[39;00m sconto \u001b[38;5;241m*\u001b[39m is_eligible\n\u001b[1;32m---> 28\u001b[0m stringa_messa_in_input, is_active, num_purchase, total_purchase, has_suspended_account, age \u001b[38;5;241m=\u001b[39m \u001b[43minput_dati\u001b[49m\u001b[43m(\u001b[49m\u001b[43m)\u001b[49m\n\u001b[0;32m     29\u001b[0m is_eligible \u001b[38;5;241m=\u001b[39m valuta_accesso(is_active, num_purchase, total_purchase, has_suspended_account)\n\u001b[0;32m     30\u001b[0m sconto \u001b[38;5;241m=\u001b[39m calcola_sconto(is_eligible, age)\n",
      "Cell \u001b[1;32mIn[58], line 10\u001b[0m, in \u001b[0;36minput_dati\u001b[1;34m()\u001b[0m\n\u001b[0;32m      8\u001b[0m has_suspended_account \u001b[38;5;241m=\u001b[39m (\u001b[38;5;28minput\u001b[39m(\u001b[38;5;124m\"\u001b[39m\u001b[38;5;124mHai mai sospeso il tuo account? (true/false) \u001b[39m\u001b[38;5;124m\"\u001b[39m)) \u001b[38;5;241m==\u001b[39m \u001b[38;5;124m\"\u001b[39m\u001b[38;5;124mFalse\u001b[39m\u001b[38;5;124m\"\u001b[39m\n\u001b[0;32m      9\u001b[0m age \u001b[38;5;241m=\u001b[39m \u001b[38;5;28mint\u001b[39m(\u001b[38;5;28minput\u001b[39m(\u001b[38;5;124m\"\u001b[39m\u001b[38;5;124mQuanti anni hai? \u001b[39m\u001b[38;5;124m\"\u001b[39m))\n\u001b[1;32m---> 10\u001b[0m \u001b[43mstringa_messa_in_input\u001b[49m \u001b[38;5;241m==\u001b[39m \u001b[38;5;124m'\u001b[39m\u001b[38;5;124mTrue\u001b[39m\u001b[38;5;124m'\u001b[39m\n\u001b[0;32m     11\u001b[0m \u001b[38;5;28;01mreturn\u001b[39;00m is_active, num_purchase, total_purchase, has_suspended_account, age\n",
      "\u001b[1;31mNameError\u001b[0m: name 'stringa_messa_in_input' is not defined"
     ]
    }
   ],
   "source": [
    "\"\"\" funzione valuta_accesso:\n",
    "- Verifica se il cliente può accedere all'offerta speciale.\"\"\"\n",
    "\n",
    "def input_dati():\n",
    "    is_active = (input(\"Sei un cliente attivo? (true/false) \")) == \"True\"\n",
    "    num_purchase = int(input(\"Quanti acquisti hai effettuato negli ultimi 12 mesi? \"))\n",
    "    total_purchase = float(input(\"Quanto hai speso negli ultimi 12 mesi? (in euro) \"))\n",
    "    has_suspended_account = (input(\"Hai mai sospeso il tuo account? (true/false) \")) == \"False\"\n",
    "    age = int(input(\"Quanti anni hai? \"))\n",
    "    return is_active, num_purchase, total_purchase, has_suspended_account, age\n",
    "\n",
    "def valuta_accesso(is_active, num_purchase, total_purchase, has_suspended_account):\n",
    "    cond_purchase = num_purchase >= 3\n",
    "    cond_total_purchase = total_purchase >= 100.50\n",
    "    cond_suspended_account = not has_suspended_account\n",
    "    is_eligible = is_active and cond_purchase and cond_total_purchase and cond_suspended_account\n",
    "    print(\"is eligible for the special offer\", is_eligible)\n",
    "    return is_eligible\n",
    "\n",
    "def calcola_sconto(is_eligible, age):\n",
    "    sconto = 30 - age\n",
    "    if sconto < 0:\n",
    "        sconto = 0\n",
    "    return sconto * is_eligible\n",
    "\n",
    "\n",
    "is_active, num_purchase, total_purchase, has_suspended_account, age = input_dati()\n",
    "is_eligible = valuta_accesso(is_active, num_purchase, total_purchase, has_suspended_account)\n",
    "sconto = calcola_sconto(is_eligible, age)\n",
    "print(\"Lo sconto è di\", sconto, \"euro\")\n",
    "\n",
    "\n"
   ]
  },
  {
   "cell_type": "code",
   "execution_count": null,
   "metadata": {},
   "outputs": [],
   "source": []
  }
 ],
 "metadata": {
  "kernelspec": {
   "display_name": "Python 3",
   "language": "python",
   "name": "python3"
  },
  "language_info": {
   "codemirror_mode": {
    "name": "ipython",
    "version": 3
   },
   "file_extension": ".py",
   "mimetype": "text/x-python",
   "name": "python",
   "nbconvert_exporter": "python",
   "pygments_lexer": "ipython3",
   "version": "3.12.8"
  }
 },
 "nbformat": 4,
 "nbformat_minor": 2
}
