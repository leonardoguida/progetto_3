{
 "cells": [
  {
   "cell_type": "markdown",
   "metadata": {},
   "source": [
    "# Esercizio: Sistema di Valutazione Abbonamenti e Codice Sconto\n",
    "\n",
    "## Sistema di Valutazione Abbonamenti\n",
    "Un'azienda di servizi online vuole implementare un sistema che valuti se un cliente può accedere a un'offerta speciale. Le condizioni per accedere all'offerta sono le seguenti:\n",
    "\n",
    "1. Il cliente deve essere:\n",
    "- un utente attivo (campo booleano utente_attivo).\n",
    "- almeno 3 acquisti (numero_acquisti è un intero).\n",
    "- speso in totale almeno 100.50 euro (spesa_totale è un numero decimale).\n",
    "- no account sospesi (sospeso è un booleano).\n",
    "\n",
    "## Regole per il codice sconto\n",
    "5. L'utente riceve uno sconto calcolato come 30 - età.\n",
    "6. Se il valore risultante è negativo, lo sconto è considerato pari a 0.\n",
    "7. Lo sconto è valido solo per utenti attivi e non sospesi.\n",
    "\n",
    "## Obiettivo\n",
    "Scrivi un programma che:\n",
    "\n",
    "Definisca la funzione valuta_accesso:\n",
    "- Verifica se il cliente può accedere all'offerta speciale.\n",
    "\n",
    "Definisca la funzione input_dati:\n",
    "- Acquisisce i dati richiesti dall'utente. (hint: input)\n",
    "\n",
    "Definisca una nuova funzione calcola_sconto che:\n",
    "- Accetti come parametri:\n",
    "    - utente_attivo (booleano)\n",
    "    - sospeso (booleano)\n",
    "    - età (intero)\n",
    "- Calcoli lo sconto come 30 - età se l'utente è attivo e non sospeso.\n",
    "- Restituisca 0 se l'utente non soddisfa i requisiti o se lo sconto calcolato è negativo.\n",
    "\n",
    "Mostri all'utente:\n",
    "- Se può accedere all'offerta speciale.\n",
    "- L'ammontare dello sconto che gli spetta (se applicabile)."
   ]
  },
  {
   "cell_type": "code",
   "execution_count": null,
   "metadata": {},
   "outputs": [
    {
     "name": "stdout",
     "output_type": "stream",
     "text": [
      "Siamo spiacenti, non hai diritto a uno sconto.\n"
     ]
    }
   ],
   "source": [
    "# Input\n",
    "attività_cliente = input(\"Hai fatto acquisti negli ultimi 12 mesi? (True/False) \") == \"True\"\n",
    "sospensione_account = input(\"Hai mai sospeso il tuo account? (True/False) \") == \"False\"\n",
    "num_acquisti = int(input(\"Quanti acquisti hai fatto negli ultimi 12 mesi? \"))\n",
    "spesa_totale = float(input(\"Quanto hai speso in totale negli ultimi 12 mesi? (in euro) \"))\n",
    "età = int(input(\"Quanti anni hai? \"))\n",
    "\n",
    "# Funzione per verificare le condizioni dello sconto\n",
    "def condizioni_sconto(attività_cliente, num_acquisti, spesa_totale, sospensione_account, età):\n",
    "    cond_attività_cliente = attività_cliente\n",
    "    cond_sospensione_account = sospensione_account  # Senza not, perché il false è gia dichiarato nell'input di sospensione_account: - per - restituisce +, e sarebbe errato\n",
    "    cond_num_acquisti = num_acquisti >= 3\n",
    "    cond_spesa_totale = spesa_totale >= 100.50\n",
    "    cond_età = età <= 30\n",
    "    diritto_allo_sconto = cond_attività_cliente and cond_sospensione_account and cond_num_acquisti and cond_spesa_totale and cond_età\n",
    "    return diritto_allo_sconto\n",
    "\n",
    "# Funzione per calcolare lo sconto\n",
    "def calcolo_sconto(diritto_allo_sconto, età):\n",
    "    if not diritto_allo_sconto:\n",
    "        print(\"Siamo spiacenti, non hai diritto a uno sconto.\")\n",
    "        return 0\n",
    "\n",
    "    sconto = 30 - età\n",
    "    if sconto <= 0:\n",
    "        print(\"Siamo spiacenti, per ottenere lo sconto devi avere meno di 30 anni.\")\n",
    "        return 0\n",
    "\n",
    "    print(f\"Complimenti! Hai diritto a uno sconto del {sconto}%.\")\n",
    "    return sconto\n",
    "\n",
    "# Logica principale\n",
    "diritto_allo_sconto = condizioni_sconto(attività_cliente, num_acquisti, spesa_totale, sospensione_account, età)\n",
    "sconto = calcolo_sconto(diritto_allo_sconto, età)\n"
   ]
  },
  {
   "cell_type": "code",
   "execution_count": 32,
   "metadata": {},
   "outputs": [
    {
     "name": "stdout",
     "output_type": "stream",
     "text": [
      "Attenzione! Il numero deve essere compreso tra 0 e 10.\n",
      "Attenzione! Il numero deve essere compreso tra 0 e 10.\n",
      "Insufficiente\n"
     ]
    }
   ],
   "source": [
    "\"\"\"scrivere una funzione che converta un numero (compreso tra 0 e 10) in:\n",
    "insufficiente se tra 0 e 5\n",
    "buono se tra 5 e 7\n",
    "ottimo se maggiore di 7.\n",
    "Inoltre, effettuare il controllo dell'input per verificare che il numero sia compreso tra 0 e 10.\"\"\"\n",
    "\n",
    "def inserisci_numero():\n",
    "    numero = int(input(\"Inserisci un numero tra 0 e 10: \"))\n",
    "\n",
    "    if numero < 0 or numero > 10:\n",
    "        print(\"Attenzione! Il numero deve essere compreso tra 0 e 10.\")\n",
    "        inserisci_numero()    # Chiamata ricorsiva: serve a far ripartire il codice dall'inizio, in modo che l'utente possa reinserire il numero\n",
    "    elif numero <= 5:\n",
    "        print(\"Insufficiente\")\n",
    "    elif numero <= 7:\n",
    "        print(\"Buono\")\n",
    "    else:\n",
    "        print(\"Ottimo\")\n",
    "\n",
    "inserisci_numero()"
   ]
  },
  {
   "cell_type": "code",
   "execution_count": 33,
   "metadata": {},
   "outputs": [
    {
     "data": {
      "text/plain": [
       "True"
      ]
     },
     "execution_count": 33,
     "metadata": {},
     "output_type": "execute_result"
    }
   ],
   "source": [
    "a_stringa = \"Questa è una stringa\"\n",
    "bool(a_stringa)\n"
   ]
  },
  {
   "cell_type": "code",
   "execution_count": 35,
   "metadata": {},
   "outputs": [
    {
     "data": {
      "text/plain": [
       "False"
      ]
     },
     "execution_count": 35,
     "metadata": {},
     "output_type": "execute_result"
    }
   ],
   "source": [
    "altra_stringa = \"\"\n",
    "bool(altra_stringa)"
   ]
  },
  {
   "cell_type": "code",
   "execution_count": 36,
   "metadata": {},
   "outputs": [
    {
     "data": {
      "text/plain": [
       "True"
      ]
     },
     "execution_count": 36,
     "metadata": {},
     "output_type": "execute_result"
    }
   ],
   "source": [
    "a_lista = [1, 2, 3]\n",
    "bool(a_lista)"
   ]
  },
  {
   "cell_type": "code",
   "execution_count": 37,
   "metadata": {},
   "outputs": [
    {
     "data": {
      "text/plain": [
       "False"
      ]
     },
     "execution_count": 37,
     "metadata": {},
     "output_type": "execute_result"
    }
   ],
   "source": [
    "altra_lista = []\n",
    "bool(altra_lista)"
   ]
  },
  {
   "cell_type": "code",
   "execution_count": 38,
   "metadata": {},
   "outputs": [
    {
     "data": {
      "text/plain": [
       "True"
      ]
     },
     "execution_count": 38,
     "metadata": {},
     "output_type": "execute_result"
    }
   ],
   "source": [
    "terza_stringa = \" \"\n",
    "bool(terza_stringa)"
   ]
  },
  {
   "cell_type": "code",
   "execution_count": 40,
   "metadata": {},
   "outputs": [
    {
     "data": {
      "text/plain": [
       "False"
      ]
     },
     "execution_count": 40,
     "metadata": {},
     "output_type": "execute_result"
    }
   ],
   "source": [
    "bool(None)"
   ]
  },
  {
   "cell_type": "code",
   "execution_count": 42,
   "metadata": {},
   "outputs": [
    {
     "name": "stdout",
     "output_type": "stream",
     "text": [
      "result: 10\n",
      "bool(result): True\n",
      "Entratoh: 10\n"
     ]
    }
   ],
   "source": [
    "def func(parameter):\n",
    "    if parameter == 0:\n",
    "        return          # None (cioè nessun valore)\n",
    "    else:\n",
    "        return parameter * 2\n",
    "    \n",
    "result = func(5)\n",
    "\n",
    "print('result:', result)\n",
    "print('bool(result):', bool(result))\n",
    "\n",
    "if bool(result):\n",
    "    print('Entratoh:', result)"
   ]
  },
  {
   "cell_type": "code",
   "execution_count": 43,
   "metadata": {},
   "outputs": [
    {
     "name": "stdout",
     "output_type": "stream",
     "text": [
      "Welcome, Leonardo from Foggiatown!\n"
     ]
    }
   ],
   "source": [
    "\"\"\"Create a welcome page for a website that greets users based on their name and city.\n",
    "First get user's name and city using a prompt. Then, show a personalized welcome message like \"Welcome, [name] from [city]!\" using the provided name and city inputs.\"\"\"\n",
    "\n",
    "\n",
    "\n",
    "user_name = input(\"What's your name?\")\n",
    "user_city = input(\"What's the name of your city?\")\n",
    "print(f\"Welcome, {user_name} from {user_city}!\")"
   ]
  },
  {
   "cell_type": "code",
   "execution_count": null,
   "metadata": {},
   "outputs": [
    {
     "name": "stdout",
     "output_type": "stream",
     "text": [
      "10\n"
     ]
    },
    {
     "data": {
      "text/plain": [
       "'leonardo34'"
      ]
     },
     "execution_count": 53,
     "metadata": {},
     "output_type": "execute_result"
    }
   ],
   "source": [
    "\"\"\"Imagine you are designing a password creation form.\n",
    "You need to ensure that passwords meet a minimum length requirement. Check if the password length is at least 8 characters.(Use len function)\"\"\"\n",
    "\n",
    "\n",
    "create_password = input(\"Write a new password (at least 8 characters):\")\n",
    "\n",
    "def password_len(create_password):\n",
    "    if len(create_password) >= 8:\n",
    "        print(len(create_password))\n",
    "        return(create_password)\n",
    "    else:\n",
    "        print(\"Password must have at least 8 characters!\")\n",
    "        return None\n",
    "    \n",
    "password_len(create_password)\n",
    "\n"
   ]
  },
  {
   "cell_type": "code",
   "execution_count": null,
   "metadata": {},
   "outputs": [
    {
     "name": "stdout",
     "output_type": "stream",
     "text": [
      "Invalid input! Please enter an integer.\n"
     ]
    }
   ],
   "source": [
    "\"\"\"Imagine you are a helpful assistant to a math teacher. Your task is to create a Python program that can check if a student's number is divisible by both 5 and 11.\n",
    "This program will provide instant feedback to the students to assist them in their math exercises.\"\"\"\n",
    "\n",
    "\n",
    "\n",
    "student_number = int\n",
    "\n",
    "def divisible (student_number):\n",
    "    return student_number % 5 == 0 and student_number % 11 == 0\n",
    "\n",
    "try:\n",
    "    student_number = int(input(\"Enter a number to check: \"))\n",
    "    if divisible(student_number):\n",
    "        print(f\"The number {student_number} is divisible by both 5 and 11.\")\n",
    "    else:\n",
    "        print(f\"The number {student_number} is not divisible by both 5 and 11.\")\n",
    "except ValueError:\n",
    "    print(\"Invalid input! Please enter an integer.\")\n",
    "    "
   ]
  }
 ],
 "metadata": {
  "kernelspec": {
   "display_name": "Python 3",
   "language": "python",
   "name": "python3"
  },
  "language_info": {
   "codemirror_mode": {
    "name": "ipython",
    "version": 3
   },
   "file_extension": ".py",
   "mimetype": "text/x-python",
   "name": "python",
   "nbconvert_exporter": "python",
   "pygments_lexer": "ipython3",
   "version": "3.12.8"
  }
 },
 "nbformat": 4,
 "nbformat_minor": 2
}
