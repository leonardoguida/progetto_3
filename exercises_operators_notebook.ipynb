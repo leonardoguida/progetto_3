{
 "cells": [
  {
   "cell_type": "code",
   "execution_count": 2,
   "metadata": {},
   "outputs": [
    {
     "name": "stdout",
     "output_type": "stream",
     "text": [
      "1\n"
     ]
    }
   ],
   "source": [
    "# Operators 1\n",
    "\n",
    "\"\"\"Imagine you're a teacher. You have five apples that you want to distribute equally among two students. After giving each student two apples, there's one apple left.\n",
    "You're writing a program to calculate the remainder (the undistributed apple in this case) of the division.\"\"\"\n",
    "\n",
    "apples = 5\n",
    "students = 2\n",
    "apples_left = apples % students\n",
    "print(apples_left)\n"
   ]
  },
  {
   "cell_type": "code",
   "execution_count": 6,
   "metadata": {},
   "outputs": [
    {
     "name": "stdout",
     "output_type": "stream",
     "text": [
      "False\n"
     ]
    }
   ],
   "source": [
    "# Operators 2\n",
    "\n",
    "\"\"\"You're developing a security system that allows access only if a person's first name and last name don't both match the suspicious names: \"Mario\" and \"Smith\".\n",
    "\n",
    "You want to test a situation where the first name is \"Mario\", but the last name is \"Johnson\". The access should be granted in this case, hence the system should return True.\n",
    "\n",
    "Question is \"What logical operator should replace ... in order to print True for this scenario?\"\n",
    "\n",
    "first_name = \"Mario\"\n",
    "last_name = \"Johnson\"\n",
    "\n",
    "print(not (first_name == \"Mario\" ... last_name == \"Smith\")) # Should print True\"\"\"\n",
    "\n",
    "\n",
    "first_name = \"Mario\"\n",
    "last_name = \"Johnson\"\n",
    "print(not(first_name == \"Mario\" and last_name == \"Smith\")) # Should print True\n",
    "\n",
    "\n"
   ]
  },
  {
   "cell_type": "code",
   "execution_count": 7,
   "metadata": {},
   "outputs": [
    {
     "name": "stdout",
     "output_type": "stream",
     "text": [
      "Mario Rossi\n"
     ]
    }
   ],
   "source": [
    "# Operators 3\n",
    "\n",
    "\n",
    "\"\"\"You're developing a game where players can create their own characters.\n",
    "\n",
    "Currently, you're working on the function that combines the character's first name and last name into a single string. You're testing it with a character named \"Mario Rossi\".\n",
    "\n",
    "How should you define full_name to correctly concatenate the character's first name and last name into a single string?\n",
    "\n",
    "firstName = \"Mario\"\n",
    "lastName = \"Rossi\"\n",
    "\n",
    "full_name = ...\n",
    "\n",
    "print(full_name)  # Should print \"Mario Rossi\" \"\"\"\n",
    "\n",
    "\n",
    "first_name = \"Mario\"\n",
    "last_name = \"Rossi\"\n",
    "full_name = first_name + \" \" + last_name\n",
    "print(full_name)  # Should print \"Mario Rossi\"\n"
   ]
  },
  {
   "cell_type": "code",
   "execution_count": 19,
   "metadata": {},
   "outputs": [
    {
     "name": "stdout",
     "output_type": "stream",
     "text": [
      "You are eligible to drive.\n",
      "You are eligible to drive.\n",
      "You are eligible to drive a car.\n"
     ]
    }
   ],
   "source": [
    "# Operators 4\n",
    "\n",
    "\"\"\"Write a Python program that:\"\"\"\n",
    "\n",
    "\n",
    "\n",
    "# 1. Asks the user for their age.\n",
    "\n",
    "age = int(input(\"Enter your age: \"))\n",
    "\n",
    "\n",
    "\n",
    "\n",
    "# 2. Asks the user if they have a valid driving license (yes or no).\n",
    "\n",
    "license = input(\"Do you have a valid driving license? (yes or no): \").strip().lower()\n",
    "\n",
    "\n",
    "\n",
    "\n",
    "# 3. Using logical operators and without using an \"if\" statement, dictionaries, or arrays, determine if the user is eligible to drive a car. Assume that the user needs to be at least 18 years old and must have a valid driving license to be eligible.\n",
    "\n",
    "elegible = age >= 18 and license == \"yes\"\n",
    "\n",
    "\n",
    "# N.B. i seguenti if sono equivalenti, ma non vanno pubblicati nella piattaforma di esercizi, perchè non sono richiesti\n",
    "\n",
    "if elegible:\n",
    "    print(\"You are eligible to drive.\")\n",
    "else:\n",
    "    print(\"You are not eligible to drive.\")\n",
    "\n",
    "# oppure\n",
    "\n",
    "if age >= 18 and license == \"yes\":\n",
    "    print(\"You are eligible to drive.\")\n",
    "else:\n",
    "    print(\"You are not eligible to drive.\")\n",
    "\n",
    "\n",
    "\n",
    "# 4. Print the result, telling the user if they are eligible to drive or not.\n",
    "\n",
    "print(\"You are eligible to drive a car.\" if elegible else \"You are not eligible to drive a car.\")"
   ]
  }
 ],
 "metadata": {
  "kernelspec": {
   "display_name": "Python 3",
   "language": "python",
   "name": "python3"
  },
  "language_info": {
   "codemirror_mode": {
    "name": "ipython",
    "version": 3
   },
   "file_extension": ".py",
   "mimetype": "text/x-python",
   "name": "python",
   "nbconvert_exporter": "python",
   "pygments_lexer": "ipython3",
   "version": "3.12.8"
  }
 },
 "nbformat": 4,
 "nbformat_minor": 2
}
