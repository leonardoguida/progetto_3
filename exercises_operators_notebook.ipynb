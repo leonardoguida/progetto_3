{
 "cells": [
  {
   "cell_type": "code",
   "execution_count": 2,
   "metadata": {},
   "outputs": [
    {
     "name": "stdout",
     "output_type": "stream",
     "text": [
      "1\n"
     ]
    }
   ],
   "source": [
    "# Operators 1\n",
    "\n",
    "\"\"\"Imagine you're a teacher. You have five apples that you want to distribute equally among two students. After giving each student two apples, there's one apple left.\n",
    "You're writing a program to calculate the remainder (the undistributed apple in this case) of the division.\"\"\"\n",
    "\n",
    "apples = 5\n",
    "students = 2\n",
    "apples_left = apples % students\n",
    "print(apples_left)\n"
   ]
  },
  {
   "cell_type": "code",
   "execution_count": 2,
   "metadata": {},
   "outputs": [
    {
     "name": "stdout",
     "output_type": "stream",
     "text": [
      "True\n"
     ]
    }
   ],
   "source": [
    "# Operators 2\n",
    "\n",
    "\"\"\"You're developing a security system that allows access only if a person's first name and last name don't both match the suspicious names: \"Mario\" and \"Smith\".\n",
    "\n",
    "You want to test a situation where the first name is \"Mario\", but the last name is \"Johnson\". The access should be granted in this case, hence the system should return True.\n",
    "\n",
    "Question is \"What logical operator should replace ... in order to print True for this scenario?\"\n",
    "\n",
    "first_name = \"Mario\"\n",
    "last_name = \"Johnson\"\n",
    "\n",
    "print(not (first_name == \"Mario\" ... last_name == \"Smith\")) # Should print True\"\"\"\n",
    "\n",
    "\n",
    "first_name = \"Mario\"\n",
    "last_name = \"Johnson\"\n",
    "print(not(first_name == \"Mario\" and last_name == \"Smith\")) # Should print True\n",
    "\n",
    "\n"
   ]
  },
  {
   "cell_type": "code",
   "execution_count": 7,
   "metadata": {},
   "outputs": [
    {
     "name": "stdout",
     "output_type": "stream",
     "text": [
      "Mario Rossi\n"
     ]
    }
   ],
   "source": [
    "# Operators 3\n",
    "\n",
    "\n",
    "\"\"\"You're developing a game where players can create their own characters.\n",
    "\n",
    "Currently, you're working on the function that combines the character's first name and last name into a single string. You're testing it with a character named \"Mario Rossi\".\n",
    "\n",
    "How should you define full_name to correctly concatenate the character's first name and last name into a single string?\n",
    "\n",
    "firstName = \"Mario\"\n",
    "lastName = \"Rossi\"\n",
    "\n",
    "full_name = ...\n",
    "\n",
    "print(full_name)  # Should print \"Mario Rossi\" \"\"\"\n",
    "\n",
    "\n",
    "first_name = \"Mario\"\n",
    "last_name = \"Rossi\"\n",
    "full_name = first_name + \" \" + last_name\n",
    "print(full_name)  # Should print \"Mario Rossi\"\n"
   ]
  },
  {
   "cell_type": "code",
   "execution_count": 3,
   "metadata": {},
   "outputs": [
    {
     "name": "stdout",
     "output_type": "stream",
     "text": [
      "You are eligible to drive.\n",
      "You are eligible to drive.\n",
      "You are eligible to drive a car.\n"
     ]
    }
   ],
   "source": [
    "# Operators 4\n",
    "\n",
    "\"\"\"Write a Python program that:\"\"\"\n",
    "\n",
    "\n",
    "\n",
    "# 1. Asks the user for their age.\n",
    "\n",
    "age = int(input(\"Enter your age: \"))\n",
    "\n",
    "\n",
    "\n",
    "\n",
    "# 2. Asks the user if they have a valid driving license (yes or no).\n",
    "\n",
    "license = input(\"Do you have a valid driving license? (yes or no): \").strip().lower()\n",
    "\n",
    "\n",
    "\n",
    "\n",
    "# 3. Using logical operators and without using an \"if\" statement, dictionaries, or arrays, determine if the user is eligible to drive a car. Assume that the user needs to be at least 18 years old and must have a valid driving license to be eligible.\n",
    "\n",
    "eligible = age >= 18 and license == \"yes\"\n",
    "\n",
    "\n",
    "# N.B. i seguenti if sono equivalenti, ma non vanno pubblicati nella piattaforma di esercizi, perchè non sono richiesti\n",
    "\n",
    "if eligible:\n",
    "    print(\"You are eligible to drive.\")\n",
    "else:\n",
    "    print(\"You are not eligible to drive.\")\n",
    "\n",
    "# oppure\n",
    "\n",
    "if age >= 18 and license == \"yes\":\n",
    "    print(\"You are eligible to drive.\")\n",
    "else:\n",
    "    print(\"You are not eligible to drive.\")\n",
    "\n",
    "\n",
    "\n",
    "# 4. Print the result, telling the user if they are eligible to drive or not.\n",
    "\n",
    "print(\"You are eligible to drive a car.\" if eligible else \"You are not eligible to drive a car.\")\n"
   ]
  },
  {
   "cell_type": "code",
   "execution_count": 21,
   "metadata": {},
   "outputs": [
    {
     "name": "stdout",
     "output_type": "stream",
     "text": [
      "The user is eligible\n"
     ]
    }
   ],
   "source": [
    "# UTILIZZO DEI BOOLEANI, DEI NOT (per invertire il significato) E DELLE MOLTIPLICAZIONI DELLE STRINGHE CON I BOOLEANI\n",
    "\n",
    "\n",
    "is_eligible = True\n",
    "\n",
    "print(f\"The user is {\"not \" * (not is_eligible)}eligible\")"
   ]
  },
  {
   "cell_type": "code",
   "execution_count": 22,
   "metadata": {},
   "outputs": [
    {
     "name": "stdout",
     "output_type": "stream",
     "text": [
      "False\n"
     ]
    }
   ],
   "source": [
    "print(not is_eligible)"
   ]
  },
  {
   "cell_type": "code",
   "execution_count": 23,
   "metadata": {},
   "outputs": [
    {
     "name": "stdout",
     "output_type": "stream",
     "text": [
      "\n"
     ]
    }
   ],
   "source": [
    "print(\"not \" * (not is_eligible))"
   ]
  },
  {
   "cell_type": "code",
   "execution_count": 25,
   "metadata": {},
   "outputs": [
    {
     "name": "stdout",
     "output_type": "stream",
     "text": [
      "not \n"
     ]
    }
   ],
   "source": [
    "print(\"not \" * True)"
   ]
  },
  {
   "cell_type": "code",
   "execution_count": 9,
   "metadata": {},
   "outputs": [
    {
     "name": "stdout",
     "output_type": "stream",
     "text": [
      "The network address is: 4\n"
     ]
    }
   ],
   "source": [
    "# operators 5\n",
    "\n",
    "\"\"\"Imagine you are working with IPv4 addresses and you want to apply a subnet mask to an IP address using binary operations.\"\"\"\n",
    "\n",
    "\n",
    "\n",
    "# 1. Ask the user to input an IPv4 address. For simplicity, consider the IP address as a single 8-bit number (so the user should input a number between 0 and 255).\n",
    "\n",
    "ipv4 = int(input(\"Enter an IPv4 address (a number between 0 and 255): \"))\n",
    "\n",
    "if not(0 <= ipv4 <= 255):\n",
    "    print(\"Invalid IPv4 address: the number must be between 0 and 255\")\n",
    "\n",
    "\n",
    "\n",
    "\n",
    "# 2. Ask the user to input a subnet mask. Again, for simplicity, consider the subnet mask as a single 8-bit number (a number between 0 and 255).\n",
    "\n",
    "subnet_mask = int(input(\"Enter a subnet mask (a number between 0 and 255): \"))\n",
    "\n",
    "if not(0 <= subnet_mask <= 255):\n",
    "    print(\"Invalid subnet mask: the number must be between 0 and 255\")\n",
    "\n",
    "\n",
    "# 3. Using the binary AND operator, apply the subnet mask to the IP address.\n",
    "\n",
    "network_address = ipv4 & subnet_mask\n",
    "\n",
    "\n",
    "\n",
    "# 4. Print the result, which represents the network address.\n",
    "\n",
    "print(f\"The network address is: {network_address}\")\n",
    "\n",
    "\n"
   ]
  },
  {
   "cell_type": "code",
   "execution_count": 10,
   "metadata": {},
   "outputs": [
    {
     "name": "stdout",
     "output_type": "stream",
     "text": [
      "7\n",
      "5\n",
      "15\n",
      "Each team has 4 students, with 0 students left over.\n"
     ]
    }
   ],
   "source": [
    "# operators 6\n",
    "\n",
    "\"\"\"1. You're writing a Python program to manage a small bakery. You currently have a = 3 loaves of bread and b = 4 baguettes.\n",
    "Write a program that calculates and prints the total number of items in the bakery.\"\"\"\n",
    "\n",
    "loaves_of_bread = 3\n",
    "baguettes = 4\n",
    "total_items = loaves_of_bread + baguettes\n",
    "print(total_items)\n",
    "\n",
    "\n",
    "\n",
    "\n",
    "\"\"\"2. You're developing a game where a player starts with x = 7 lives but loses y = 2 lives after encountering a ghost.\n",
    "Write a program that calculates and prints the remaining lives after the encounter.\"\"\"\n",
    "\n",
    "lives = 7\n",
    "encountering_ghost = -2\n",
    "remaining_lives = lives + encountering_ghost\n",
    "print(remaining_lives)\n",
    "\n",
    "\n",
    "\n",
    "\n",
    "\"\"\"3. You're coding a program for a bookstore. Each book costs p = 5 dollars, and a customer wants to buy q = 3 books.\n",
    "Write a program that calculates and prints the total cost for the customer.\"\"\"\n",
    "\n",
    "book_cost = 5\n",
    "books_in_cart = 3\n",
    "total_cost = book_cost * books_in_cart\n",
    "print(total_cost)\n",
    "\n",
    "\n",
    "\n",
    "\n",
    "\n",
    "\"\"\"4. You're building an app for a school. A class has m = 8 students, and they need to be divided into n = 2 equal teams for a competition.\n",
    "Write a program that calculates and prints the number of students in each team and the remainder, if any.\"\"\"\n",
    "\n",
    "students = 8\n",
    "teams = 2\n",
    "students_per_team = students // teams\n",
    "remaining_students = students % teams\n",
    "print(f\"Each team has {students_per_team} students, with {remaining_students} students left over.\")"
   ]
  },
  {
   "cell_type": "code",
   "execution_count": 32,
   "metadata": {},
   "outputs": [
    {
     "name": "stdout",
     "output_type": "stream",
     "text": [
      "45 20 65 5.42\n"
     ]
    }
   ],
   "source": [
    "\"\"\"Abbiamo 25 frutti. di cui 15 banane e 10 mele. Sappiamo che le banane costano 3 euro l'una, mentre le mele costano 2 euro l'una.\n",
    "Abbiamo 12 clienti a cui vogliamo distribuire equamente la nostra frutta.\n",
    "Quale sarà la spesa media dei nostri clienti?\"\"\"\n",
    "\n",
    "prezzo_banana = 3\n",
    "prezzo_mela = 2\n",
    "clienti = 12\n",
    "num_banane = 15\n",
    "num_mele = 10\n",
    "tot_costo_banane = prezzo_banana * num_banane\n",
    "tot_costo_mele = prezzo_mela * num_mele\n",
    "tot_costo = tot_costo_banane + tot_costo_mele\n",
    "spesa_media = tot_costo / clienti\n",
    "spesa_media = round(spesa_media, 2)\n",
    "print(tot_costo_banane, tot_costo_mele, tot_costo, spesa_media)\n",
    "\n"
   ]
  },
  {
   "cell_type": "code",
   "execution_count": 33,
   "metadata": {},
   "outputs": [],
   "source": [
    "def calculate_total_cost(num_banane, num_mele, prezzo_banana, prezzo_mela):\n",
    "    return num_banane * prezzo_banana + num_mele * prezzo_mela"
   ]
  },
  {
   "cell_type": "code",
   "execution_count": 36,
   "metadata": {},
   "outputs": [
    {
     "name": "stdout",
     "output_type": "stream",
     "text": [
      "65\n"
     ]
    }
   ],
   "source": [
    "total_cost = calculate_total_cost(15, 10, 3, 2)\n",
    "print(total_cost)"
   ]
  }
 ],
 "metadata": {
  "kernelspec": {
   "display_name": "Python 3",
   "language": "python",
   "name": "python3"
  },
  "language_info": {
   "codemirror_mode": {
    "name": "ipython",
    "version": 3
   },
   "file_extension": ".py",
   "mimetype": "text/x-python",
   "name": "python",
   "nbconvert_exporter": "python",
   "pygments_lexer": "ipython3",
   "version": "3.12.8"
  }
 },
 "nbformat": 4,
 "nbformat_minor": 2
}
