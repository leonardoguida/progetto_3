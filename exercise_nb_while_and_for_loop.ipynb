{
 "cells": [
  {
   "cell_type": "code",
   "execution_count": 1,
   "metadata": {},
   "outputs": [
    {
     "name": "stdout",
     "output_type": "stream",
     "text": [
      "1\n",
      "3\n",
      "5\n",
      "7\n",
      "9\n",
      "11\n",
      "13\n",
      "15\n",
      "17\n",
      "19\n",
      "21\n",
      "23\n",
      "25\n",
      "27\n",
      "29\n",
      "31\n",
      "33\n",
      "35\n",
      "37\n",
      "39\n",
      "Ora A è > 40! Infatti, A = 41\n"
     ]
    }
   ],
   "source": [
    "A = 1\n",
    "while A < 40:\n",
    "    print(A)\n",
    "    A += 2\n",
    "else:\n",
    "    print(\"Ora A è > 40! Infatti, A =\", A)"
   ]
  },
  {
   "cell_type": "code",
   "execution_count": 4,
   "metadata": {},
   "outputs": [
    {
     "name": "stdout",
     "output_type": "stream",
     "text": [
      "1\n",
      "3\n",
      "5\n",
      "7\n",
      "9\n",
      "Ora soddisfi entrambi i parametri! Infatti, A = 11 e il counter è uguale a 5\n"
     ]
    }
   ],
   "source": [
    "A = 1\n",
    "counter_loop = 0\n",
    "while A < 40 and counter_loop < 5:\n",
    "    print(A)\n",
    "    A += 2\n",
    "    counter_loop += 1\n",
    "else:\n",
    "    print(\"Ora soddisfi entrambi i parametri! Infatti, A =\", A, \"e il counter è uguale a\", counter_loop)"
   ]
  },
  {
   "cell_type": "code",
   "execution_count": 8,
   "metadata": {},
   "outputs": [
    {
     "name": "stdout",
     "output_type": "stream",
     "text": [
      "text at the start of the loop hello you\n",
      "text at the end of the loop hello yo\n",
      "text at the start of the loop hello yo\n",
      "text at the end of the loop hello y\n",
      "text at the start of the loop hello y\n",
      "text at the end of the loop hello \n",
      "text at the start of the loop hello \n",
      "text at the end of the loop hello\n",
      "text at the start of the loop hello\n",
      "text at the end of the loop hell\n",
      "text at the start of the loop hell\n",
      "text at the end of the loop hel\n",
      "text at the start of the loop hel\n",
      "text at the end of the loop he\n",
      "text at the start of the loop he\n",
      "text at the end of the loop h\n",
      "The lenght of the loop is 8\n"
     ]
    }
   ],
   "source": [
    "text = \"hello you\"\n",
    "counter_loop = 0\n",
    "while len(text) > 1:\n",
    "    print(\"text at the start of the loop\", text)\n",
    "    text = text[:-1]\n",
    "    counter_loop += 1\n",
    "    print(\"text at the end of the loop\", text)\n",
    "else: print(\"The lenght of the loop is\", counter_loop)\n"
   ]
  },
  {
   "cell_type": "code",
   "execution_count": 38,
   "metadata": {},
   "outputs": [
    {
     "name": "stdout",
     "output_type": "stream",
     "text": [
      "1\n",
      "1\n",
      "2\n",
      "3\n",
      "4\n",
      "5\n",
      "6\n",
      "8\n"
     ]
    }
   ],
   "source": [
    "lista = [2, 3, 4, 5, 6, 1, 8]\n",
    "minore = min(lista)\n",
    "print(minore)\n",
    "\n",
    "while len(lista) > 0:\n",
    "    #print(lista, \"lunghezza della lista:\", len(lista))\n",
    "    print(min(lista))\n",
    "    lista.remove(min(lista))\n",
    "\n",
    "\n",
    "\n"
   ]
  },
  {
   "cell_type": "code",
   "execution_count": 25,
   "metadata": {},
   "outputs": [
    {
     "name": "stdout",
     "output_type": "stream",
     "text": [
      "*\n",
      "**\n",
      "***\n",
      "****\n",
      "*****\n"
     ]
    }
   ],
   "source": [
    "p = 1\n",
    "while p <= 5:\n",
    "    print('*' * p)\n",
    "    p += 1\n"
   ]
  },
  {
   "cell_type": "code",
   "execution_count": 37,
   "metadata": {},
   "outputs": [
    {
     "name": "stdout",
     "output_type": "stream",
     "text": [
      "9\n",
      "tentativo_numero: 1\n",
      "riprova\n",
      "tentativo_numero: 2\n",
      "riprova\n",
      "tentativo_numero: 3\n",
      "riprova\n",
      "tentativo_numero: 4\n",
      "riprova\n",
      "tentativo_numero: 5\n",
      "riprova\n",
      "tentativo_numero: 6\n",
      "riprova\n",
      "tentativo_numero: 7\n",
      "Hai finito i tentativi!\n"
     ]
    }
   ],
   "source": [
    "\"\"\" fare un programma, nel quale si deve indovinare un numero da 0 a 10, 7 tentativi a disposizione.\n",
    "Se si indovina il numero, il programma deve terminare e stampare \"Hai vinto!\", altrimenti deve stampare \"Hai perso!\"\"\"\n",
    "\n",
    "import random\n",
    "numero_segreto = random.randint(1, 10)\n",
    "print(numero_segreto)    #questo serve solo a me per verificare il funzionamento del codice\n",
    "tentativi = 1\n",
    "\n",
    "\n",
    "while tentativi <= 7:\n",
    "    print(\"tentativo_numero:\", tentativi)\n",
    "    indovina_numero = int(input(\"Indovina il numero segreto (compreso tra 1 e 10):\"))\n",
    "    if indovina_numero == numero_segreto:\n",
    "        print(\"Hai vinto! Il numero segreto è\", numero_segreto)\n",
    "        break\n",
    "    \n",
    "    if tentativi == 7:\n",
    "        print(\"Hai finito i tentativi!\")\n",
    "        break\n",
    "    tentativi += 1\n",
    "    print(\"riprova\")\n",
    "\n",
    "\n"
   ]
  },
  {
   "cell_type": "markdown",
   "metadata": {},
   "source": [
    "# INDOVINA IL NUMERO SEGRETO TRA 1 E 100!"
   ]
  },
  {
   "cell_type": "code",
   "execution_count": 31,
   "metadata": {},
   "outputs": [
    {
     "name": "stdout",
     "output_type": "stream",
     "text": [
      "84\n",
      "tentativo_numero: 1\n",
      "Il numero segreto è maggiore del tuo numero, ed è compreso tra 50 e 100\n",
      "tentativo_numero: 2\n",
      "Il numero segreto è maggiore del tuo numero, ed è compreso tra 75 e 100\n",
      "tentativo_numero: 3\n",
      "Il numero segreto è minore del tuo numero, ed è compreso tra 75 e 88\n",
      "tentativo_numero: 4\n",
      "Il numero segreto è maggiore del tuo numero, ed è compreso tra 81 e 88\n",
      "tentativo_numero: 5\n",
      "Hai vinto! Il numero segreto è 84\n"
     ]
    }
   ],
   "source": [
    "\"\"\"viene scelto un numero segreto compreso tra 1 e 100\n",
    "abbiamo 7 tentativi totali\n",
    "tentiamo di indovinarlo\n",
    "ad ogni tentativo, il programma ci dice se il numero segreto è maggiore o minore del numero che abbiamo scritto\n",
    "Nota: in 7 tentativi dovremmo indovinarlo!\"\"\"\n",
    "\n",
    "\n",
    "import random\n",
    "numero_segreto = random.randint(1, 100)\n",
    "print(numero_segreto)   #questo serve solo a me per verificare il funzionamento del codice\n",
    "tentativi = 1\n",
    "numero_maggiore = 100\n",
    "numero_minore = 1\n",
    "\n",
    "while tentativi <= 7:\n",
    "    print(\"tentativo_numero:\", tentativi)\n",
    "    indovina_numero = int(input(\"Indovina il numero segreto (compreso tra 1 e 100):\"))\n",
    "    \n",
    "    if indovina_numero == numero_segreto:\n",
    "        print(\"Hai vinto! Il numero segreto è\", numero_segreto)\n",
    "        break\n",
    "    \n",
    "    if numero_segreto > indovina_numero:\n",
    "        numero_minore = indovina_numero\n",
    "        print(\"Il numero segreto è maggiore del tuo numero, ed è compreso tra\", numero_minore, \"e\", numero_maggiore)\n",
    "    \n",
    "    else:\n",
    "        numero_maggiore = indovina_numero\n",
    "        print(\"Il numero segreto è minore del tuo numero, ed è compreso tra\", numero_minore, \"e\", numero_maggiore)\n",
    "    tentativi += 1\n",
    "\n",
    "\n"
   ]
  },
  {
   "cell_type": "code",
   "execution_count": 11,
   "metadata": {},
   "outputs": [
    {
     "name": "stdout",
     "output_type": "stream",
     "text": [
      "The number 230 is not prime, 2 is a divider of this number\n"
     ]
    }
   ],
   "source": [
    "my_number = 230\n",
    "i = 2\n",
    "while i < my_number:\n",
    "    #print(i, \"the result of the euclidean division of\", my_number ,\"with\", i ,\"is\", (my_number % i))\n",
    "    \n",
    "    if my_number % i == 0:\n",
    "        print(\"The number\", my_number ,\"is not prime,\", i ,\"is a divider of this number\")\n",
    "        break\n",
    "    i = i + 1\n",
    "else:\n",
    "    print(my_number ,\"is prime\")"
   ]
  },
  {
   "cell_type": "markdown",
   "metadata": {},
   "source": [
    "### Theorem: if I can test all the numbers up to the square root of the my_number, you can assure it's prime"
   ]
  },
  {
   "cell_type": "markdown",
   "metadata": {},
   "source": [
    "# FOR LOOP"
   ]
  },
  {
   "cell_type": "code",
   "execution_count": 22,
   "metadata": {},
   "outputs": [
    {
     "name": "stdout",
     "output_type": "stream",
     "text": [
      "i is equal to 1 and ix2 is equal to 2\n",
      "i is equal to 2 and ix2 is equal to 4\n",
      "i is equal to 3 and ix2 is equal to 6\n",
      "i is equal to 4 and ix2 is equal to 8\n",
      "i is 5\n",
      "i is equal to 6 and ix2 is equal to 12\n"
     ]
    }
   ],
   "source": [
    "for i in [1, 2, 3, 4, 5, 6]:\n",
    "    if i == 5:\n",
    "        print(\"i is 5\")\n",
    "        continue\n",
    "\n",
    "    print(f\"i is equal to {i} and ix2 is equal to {i * 2}\")"
   ]
  },
  {
   "cell_type": "code",
   "execution_count": 16,
   "metadata": {},
   "outputs": [
    {
     "name": "stdout",
     "output_type": "stream",
     "text": [
      "i is equal to 1 and ix2 is equal to 2\n",
      "i is equal to 2 and ix2 is equal to 4\n",
      "i is equal to 3 and ix2 is equal to 6\n",
      "i is equal to 4 and ix2 is equal to 8\n",
      "i is equal to 5 and ix2 is equal to 10\n",
      "i is equal to 6 and ix2 is equal to 12\n"
     ]
    }
   ],
   "source": [
    "#In pratica, sopra è successo questo:\n",
    "\n",
    "i = 1\n",
    "print(f\"i is equal to {i} and ix2 is equal to {i * 2}\")\n",
    "i = 2\n",
    "print(f\"i is equal to {i} and ix2 is equal to {i * 2}\")\n",
    "i = 3\n",
    "print(f\"i is equal to {i} and ix2 is equal to {i * 2}\")\n",
    "i = 4\n",
    "print(f\"i is equal to {i} and ix2 is equal to {i * 2}\")\n",
    "i = 5\n",
    "print(f\"i is equal to {i} and ix2 is equal to {i * 2}\")\n",
    "i = 6\n",
    "print(f\"i is equal to {i} and ix2 is equal to {i * 2}\")"
   ]
  },
  {
   "cell_type": "code",
   "execution_count": 17,
   "metadata": {},
   "outputs": [
    {
     "name": "stdout",
     "output_type": "stream",
     "text": [
      "hello !\n",
      "sun !\n",
      "cloud !\n",
      "rain !\n"
     ]
    }
   ],
   "source": [
    "for string in [\"hello\", \"sun\", \"cloud\", \"rain\"]:\n",
    "    print(string ,\"!\")"
   ]
  },
  {
   "cell_type": "code",
   "execution_count": 19,
   "metadata": {},
   "outputs": [
    {
     "name": "stdout",
     "output_type": "stream",
     "text": [
      " H\n",
      "He\n",
      "el\n",
      "ll\n",
      "lo\n",
      "o \n",
      " t\n",
      "th\n",
      "he\n",
      "e \n",
      " w\n",
      "we\n",
      "ea\n",
      "at\n",
      "th\n",
      "he\n",
      "er\n",
      "r \n",
      " i\n",
      "is\n",
      "s \n",
      " v\n",
      "ve\n",
      "er\n",
      "ry\n",
      "y \n",
      " g\n",
      "gr\n",
      "re\n",
      "ea\n",
      "at\n",
      "t \n",
      " t\n",
      "to\n",
      "od\n",
      "da\n",
      "ay\n"
     ]
    }
   ],
   "source": [
    "previous_letter = \" \"\n",
    "for letter in \"Hello the weather is very great today\":\n",
    "    print(previous_letter + letter)\n",
    "    previous_letter = letter\n",
    "    "
   ]
  },
  {
   "cell_type": "code",
   "execution_count": 26,
   "metadata": {},
   "outputs": [
    {
     "name": "stdout",
     "output_type": "stream",
     "text": [
      "*\n",
      "***\n",
      "*****\n"
     ]
    }
   ],
   "source": [
    "for i in range(6):\n",
    "    if i % 2 == 0:\n",
    "        continue\n",
    "    print('*' * i)\n"
   ]
  },
  {
   "cell_type": "code",
   "execution_count": 27,
   "metadata": {},
   "outputs": [
    {
     "name": "stdout",
     "output_type": "stream",
     "text": [
      "Time for a coffee break!\n"
     ]
    }
   ],
   "source": [
    "activities = [\"coding\", \"reading\", \"COFFEE BREAK\", \"more coding\"]  # Adjust the list as needed\n",
    "\n",
    "for activity in activities:\n",
    "    if activity == \"COFFEE BREAK\":\n",
    "        print(\"Time for a coffee break!\")\n",
    "        break\n"
   ]
  },
  {
   "cell_type": "code",
   "execution_count": 32,
   "metadata": {},
   "outputs": [
    {
     "name": "stdout",
     "output_type": "stream",
     "text": [
      "cat\n",
      "dog\n",
      "fish\n",
      "lion\n",
      "elephant\n",
      "bird\n",
      "deer\n",
      "bear\n",
      "tiger\n",
      "lion lives in land\n",
      "elephant lives in land\n",
      "fish lives in water\n"
     ]
    }
   ],
   "source": [
    "list1 = ['cat', 'dog', 'fish']\n",
    "tuple1 = ('lion', 'elephant', 'bird')\n",
    "set1 = {'tiger', 'bear', 'deer'}\n",
    "dict1 = {'lion': 'land', 'elephant': 'land', 'fish': 'water'}\n",
    "\n",
    "for element in list1:\n",
    "    print(element)\n",
    "\n",
    "for element in tuple1:\n",
    "    print(element)\n",
    "\n",
    "for element in set1:\n",
    "    print(element)\n",
    "\n",
    "for animal, habitat in dict1.items():\n",
    "    if habitat == 'land':\n",
    "        print(f\"{animal} lives in {habitat}\")\n",
    "        continue\n",
    "    elif habitat == \"water\":\n",
    "        print(f\"{animal} lives in {habitat}\")\n",
    "    break\n"
   ]
  },
  {
   "cell_type": "code",
   "execution_count": 28,
   "metadata": {},
   "outputs": [
    {
     "data": {
      "text/plain": [
       "'642'"
      ]
     },
     "execution_count": 28,
     "metadata": {},
     "output_type": "execute_result"
    }
   ],
   "source": [
    "string2 = \"1234567\"\n",
    "index = string2[-2::-2]\n",
    "index"
   ]
  },
  {
   "cell_type": "code",
   "execution_count": 76,
   "metadata": {},
   "outputs": [],
   "source": [
    "\"\"\"crea una funzione per verificare che una stringa sia palindroma\"\"\"\n",
    "\n",
    "\n",
    "def palindroma(string):\n",
    "    clean_string = string.lower()\n",
    "    clean_string = clean_string.replace(\" \", \"\")\n",
    "    if clean_string == clean_string[::-1]:\n",
    "        print(f\"La parola {string} è palindroma\")\n",
    "    else:\n",
    "        print(f\"La parola {string} NON è palindroma\")"
   ]
  },
  {
   "cell_type": "code",
   "execution_count": 77,
   "metadata": {},
   "outputs": [
    {
     "name": "stdout",
     "output_type": "stream",
     "text": [
      "La parola ANNA  è palindroma\n",
      "La parola Sarras è palindroma\n",
      "La parola gioele NON è palindroma\n",
      "La parola Tabula rasa NON è palindroma\n",
      "La parola Eri un nano non annuire è palindroma\n",
      "La parola Snoop Dogg  NON è palindroma\n",
      "La parola I topi non avevano nipoti  è palindroma\n"
     ]
    }
   ],
   "source": [
    "palindroma(\"ANNA \")\n",
    "palindroma(\"Sarras\")\n",
    "palindroma(\"gioele\")\n",
    "palindroma(\"Tabula rasa\")\n",
    "palindroma(\"Eri un nano non annuire\")\n",
    "palindroma(\"Snoop Dogg \")\n",
    "palindroma(\"I topi non avevano nipoti \")"
   ]
  },
  {
   "cell_type": "code",
   "execution_count": 70,
   "metadata": {},
   "outputs": [],
   "source": [
    "\"\"\"crea una funzione per verificare che una stringa sia palindroma\"\"\"\n",
    "\n",
    "\n",
    "def is_palindrome(string):\n",
    "    clean_string = string.lower()\n",
    "    clean_string = clean_string.replace(\" \", \"\")\n",
    "    if clean_string == clean_string[::-1]:\n",
    "        print(f\"La parola {string} è palindroma\")\n",
    "    else:\n",
    "        print(f\"La parola {string} NON è palindroma\")\n",
    "    "
   ]
  },
  {
   "cell_type": "code",
   "execution_count": 71,
   "metadata": {},
   "outputs": [
    {
     "name": "stdout",
     "output_type": "stream",
     "text": [
      "La parola Ciao NON è palindroma\n",
      "La parola Anna è palindroma\n",
      "La parola come NON è palindroma\n",
      "La parola stai NON è palindroma\n",
      "La parola ? è palindroma\n",
      "La parola Ciao NON è palindroma\n",
      "La parola Anna è palindroma\n",
      "La parola come NON è palindroma\n",
      "La parola stai NON è palindroma\n",
      "La parola ? è palindroma\n",
      "G\n",
      "fine step.\n",
      "i\n",
      "fine step.\n",
      "o\n",
      "fine step.\n",
      "e\n",
      "fine step.\n",
      "l\n",
      "fine step.\n",
      "e\n",
      "fine step.\n"
     ]
    }
   ],
   "source": [
    "\"crea una lista di stringhe\"\n",
    "\n",
    "list1 = [\"Ciao\", \"Anna\", \"come\", \"stai\", \"?\"]\n",
    "\n",
    "# voglio sapere se in questa lista ci sono parole palindrome\n",
    "\n",
    "for i in list1:\n",
    "    clean_i = i.lower().replace(\" \", \"\")\n",
    "    if clean_i == clean_i[::-1]:\n",
    "        print(f\"La parola {i} è palindroma\")\n",
    "    else:\n",
    "        print(f\"La parola {i} NON è palindroma\")\n",
    "\n",
    "# OPPURE, puoi usare la funzione creata nella cella precedente (UTILIZZO RACCOMANDATO NELLA SCRITTURA DI CODICE)\n",
    "\n",
    "for i in list1:\n",
    "    is_palindrome(i)\n",
    "\n",
    "\n",
    "for lettera in \"Gioele\":\n",
    "    print(lettera)\n",
    "    print(\"fine step.\")\n"
   ]
  },
  {
   "cell_type": "code",
   "execution_count": 98,
   "metadata": {},
   "outputs": [
    {
     "name": "stdout",
     "output_type": "stream",
     "text": [
      "Has not a palindrome word\n"
     ]
    }
   ],
   "source": [
    "# Crea una nuova funzione che verifichi, in una lista di parole, se una parola è palindroma.\n",
    "\n",
    "def is_palindrome_bool(string):\n",
    "    clean_string = string.lower().replace(\" \", \"\")\n",
    "    if clean_string == clean_string[::-1]:\n",
    "        return True\n",
    "    else:\n",
    "        return False\n",
    "\n",
    "def has_palindrome(list):\n",
    "    for word in list:\n",
    "        if is_palindrome_bool(word):\n",
    "            print(f\"Has a palindrome word\")\n",
    "            return\n",
    "    print(\"Has not a palindrome word\")\n",
    "\n",
    "\n",
    "list = [\"Eri\", \"un\", \"nano\", \"non\" \"annuire\"]\n",
    "\n",
    "\n",
    "has_palindrome(list)"
   ]
  },
  {
   "cell_type": "markdown",
   "metadata": {},
   "source": [
    "# DIZIONARI"
   ]
  },
  {
   "cell_type": "code",
   "execution_count": 100,
   "metadata": {},
   "outputs": [
    {
     "data": {
      "text/plain": [
       "{'name': 'Lorenzo'}"
      ]
     },
     "execution_count": 100,
     "metadata": {},
     "output_type": "execute_result"
    }
   ],
   "source": [
    "dizionario = {}\n",
    "dizionario[\"name\"] = \"Lorenzo\"\n",
    "dizionario"
   ]
  },
  {
   "cell_type": "code",
   "execution_count": 101,
   "metadata": {},
   "outputs": [
    {
     "data": {
      "text/plain": [
       "'Lorenzo'"
      ]
     },
     "execution_count": 101,
     "metadata": {},
     "output_type": "execute_result"
    }
   ],
   "source": [
    "dizionario[\"name\"]"
   ]
  },
  {
   "cell_type": "markdown",
   "metadata": {},
   "source": [
    "#### CREAZIONE DI UN DIZIONARIO CON FUNZIONE"
   ]
  },
  {
   "cell_type": "code",
   "execution_count": 106,
   "metadata": {},
   "outputs": [],
   "source": [
    "# crea una funzione che riporti il numero di occorrenze per ogni lettera in una stringa\n",
    "\n",
    "def count_letters_occurrences(string):\n",
    "    dizionario1 = {}\n",
    "\n",
    "    for letter1 in string:\n",
    "        if letter1 in dizionario1:\n",
    "            dizionario1[letter1] += 1\n",
    "        else:\n",
    "            dizionario1[letter1] = 1\n",
    "    print(dizionario1)\n",
    "    return dizionario1"
   ]
  },
  {
   "cell_type": "code",
   "execution_count": 107,
   "metadata": {},
   "outputs": [
    {
     "name": "stdout",
     "output_type": "stream",
     "text": [
      "{'a': 3, 'b': 2}\n"
     ]
    }
   ],
   "source": [
    "dizionario1 = count_letters_occurrences(\"aaabb\")"
   ]
  },
  {
   "cell_type": "code",
   "execution_count": 108,
   "metadata": {},
   "outputs": [
    {
     "data": {
      "text/plain": [
       "3"
      ]
     },
     "execution_count": 108,
     "metadata": {},
     "output_type": "execute_result"
    }
   ],
   "source": [
    "dizionario1[\"a\"]"
   ]
  },
  {
   "cell_type": "code",
   "execution_count": 119,
   "metadata": {},
   "outputs": [],
   "source": [
    "# crea una funzione \"vendi\" che aggiorna i valori del dizionario in base a cosa vende.\n",
    "# Crea funzione vendi che va a scegliere l'articolo dallo store e aggiorna il numero della disponibilità\n",
    "\n",
    "store = {\"jeans\": 5, \"t-shirt\": 3}\n",
    "\n",
    "def vendi(articolo):\n",
    "    if store[articolo] == 0:\n",
    "        print(f\"Articolo {articolo} non disponibile\")\n",
    "    else:\n",
    "        store[articolo] -= 1\n",
    "    \n"
   ]
  },
  {
   "cell_type": "code",
   "execution_count": 115,
   "metadata": {},
   "outputs": [],
   "source": [
    "vendi(\"jeans\")"
   ]
  },
  {
   "cell_type": "code",
   "execution_count": 120,
   "metadata": {},
   "outputs": [
    {
     "data": {
      "text/plain": [
       "{'jeans': 5, 't-shirt': 3}"
      ]
     },
     "execution_count": 120,
     "metadata": {},
     "output_type": "execute_result"
    }
   ],
   "source": [
    "store"
   ]
  },
  {
   "cell_type": "markdown",
   "metadata": {},
   "source": [
    "## NESTED LOOPS"
   ]
  },
  {
   "cell_type": "code",
   "execution_count": 4,
   "metadata": {},
   "outputs": [
    {
     "name": "stdout",
     "output_type": "stream",
     "text": [
      "2 5\n",
      "2 6\n",
      "2 7\n",
      "2 8\n",
      "2 9\n",
      "4 5\n",
      "4 6\n",
      "4 7\n",
      "4 8\n",
      "4 9\n",
      "6 5\n",
      "6 6\n",
      "6 7\n",
      "6 8\n",
      "6 9\n"
     ]
    }
   ],
   "source": [
    "counter = 0\n",
    "for i in [2, 4, 6,]:\n",
    "    for j in [5, 6, 7, 8, 9]:\n",
    "        print(i, j)\n",
    "        counter += 1"
   ]
  },
  {
   "cell_type": "code",
   "execution_count": 5,
   "metadata": {},
   "outputs": [
    {
     "data": {
      "text/plain": [
       "15"
      ]
     },
     "execution_count": 5,
     "metadata": {},
     "output_type": "execute_result"
    }
   ],
   "source": [
    "counter"
   ]
  },
  {
   "cell_type": "markdown",
   "metadata": {},
   "source": [
    "### RANGE"
   ]
  },
  {
   "cell_type": "code",
   "execution_count": 6,
   "metadata": {},
   "outputs": [
    {
     "data": {
      "text/plain": [
       "range(0, 5)"
      ]
     },
     "execution_count": 6,
     "metadata": {},
     "output_type": "execute_result"
    }
   ],
   "source": [
    "range(5)"
   ]
  },
  {
   "cell_type": "code",
   "execution_count": 7,
   "metadata": {},
   "outputs": [
    {
     "data": {
      "text/plain": [
       "[0, 1, 2, 3, 4]"
      ]
     },
     "execution_count": 7,
     "metadata": {},
     "output_type": "execute_result"
    }
   ],
   "source": [
    "list(range(5))"
   ]
  },
  {
   "cell_type": "code",
   "execution_count": 10,
   "metadata": {},
   "outputs": [
    {
     "name": "stdout",
     "output_type": "stream",
     "text": [
      "0\n",
      "1\n",
      "2\n",
      "3\n",
      "4\n",
      "5\n",
      "6\n",
      "7\n",
      "8\n",
      "9\n",
      "10\n"
     ]
    }
   ],
   "source": [
    "for i in range(11):\n",
    "    print(i)"
   ]
  },
  {
   "cell_type": "code",
   "execution_count": 31,
   "metadata": {},
   "outputs": [
    {
     "name": "stdout",
     "output_type": "stream",
     "text": [
      "2\n",
      "12\n",
      "22\n",
      "32\n",
      "42\n",
      "52\n"
     ]
    }
   ],
   "source": [
    "for i in range (2, 53, 10):\n",
    "    print(i)"
   ]
  },
  {
   "cell_type": "code",
   "execution_count": 34,
   "metadata": {},
   "outputs": [
    {
     "name": "stdout",
     "output_type": "stream",
     "text": [
      "1\n",
      "2\n",
      "3\n",
      "4\n",
      "5\n",
      "6\n",
      "7\n",
      "8\n",
      "9\n",
      "10\n"
     ]
    }
   ],
   "source": [
    "i = 1\n",
    "while i <= 10:\n",
    "    print(i)\n",
    "    i += 1"
   ]
  },
  {
   "cell_type": "code",
   "execution_count": 35,
   "metadata": {},
   "outputs": [
    {
     "name": "stdout",
     "output_type": "stream",
     "text": [
      "1\n",
      "2\n",
      "3\n",
      "4\n",
      "5\n",
      "6\n",
      "7\n",
      "8\n",
      "9\n",
      "10\n"
     ]
    }
   ],
   "source": [
    "for i in range(1, 11):\n",
    "    print(i)\n"
   ]
  },
  {
   "cell_type": "code",
   "execution_count": 40,
   "metadata": {},
   "outputs": [
    {
     "name": "stdout",
     "output_type": "stream",
     "text": [
      "Morgane 8\n",
      "Melania 6\n",
      "Philip 9\n"
     ]
    }
   ],
   "source": [
    "names = [\"Morgane\", \"Melania\", \"Philip\"]\n",
    "grades = [8, 6, 9]\n",
    "\n",
    "for name, num in zip(names, grades):\n",
    "    print(name, num)\n"
   ]
  },
  {
   "cell_type": "code",
   "execution_count": 41,
   "metadata": {},
   "outputs": [
    {
     "name": "stdout",
     "output_type": "stream",
     "text": [
      "Philip\n",
      "Melania\n",
      "Morgane\n"
     ]
    }
   ],
   "source": [
    "for i in reversed(names):\n",
    "    print(i)"
   ]
  },
  {
   "cell_type": "markdown",
   "metadata": {},
   "source": [
    "### FIBONACCI sequence"
   ]
  },
  {
   "cell_type": "code",
   "execution_count": 54,
   "metadata": {},
   "outputs": [
    {
     "name": "stdout",
     "output_type": "stream",
     "text": [
      "2\n",
      "3\n",
      "5\n",
      "8\n",
      "13\n",
      "21\n",
      "34\n",
      "55\n",
      "89\n",
      "144\n",
      "233\n",
      "377\n",
      "610\n",
      "987\n",
      "1597\n",
      "2584\n",
      "4181\n",
      "6765\n",
      "10946\n",
      "17711\n"
     ]
    }
   ],
   "source": [
    "sequence = 1, 1, 2, 3, 5, 8, 13\n",
    "n1 = 1\n",
    "n2 = 1\n",
    "for i in range(20):\n",
    "    new_element = n2 + n1\n",
    "    n1 = n2\n",
    "    n2 = new_element\n",
    "    print(new_element)"
   ]
  },
  {
   "cell_type": "code",
   "execution_count": 12,
   "metadata": {},
   "outputs": [
    {
     "name": "stdout",
     "output_type": "stream",
     "text": [
      "[2, 3, 5, 7, 11, 13, 17, 19, 23, 29, 31, 37, 41, 43]\n"
     ]
    }
   ],
   "source": [
    "# ciclo for: dato un numero, mi dice quali sono tutti i numeri primi più piccoli di quello\n",
    "# utilizzo di (range)\n",
    "\n",
    "numero = int(input(\"Inserisci un numero: \"))\n",
    "numeri_primi = [2, 3]\n",
    "\n",
    "for numero_candidato in range(3,numero):\n",
    "    lista_divisori = []\n",
    "\n",
    "    for numero_primo in numeri_primi:\n",
    "        essere_primo = True\n",
    "        if numero_candidato % numero_primo == 0:\n",
    "            essere_primo = False\n",
    "            break\n",
    "    if essere_primo: \n",
    "                numeri_primi.append(numero_candidato)\n",
    "\n",
    "\n",
    "print(numeri_primi)\n",
    "\n",
    "\n",
    "\n",
    "\n"
   ]
  },
  {
   "cell_type": "code",
   "execution_count": 5,
   "metadata": {},
   "outputs": [
    {
     "name": "stdout",
     "output_type": "stream",
     "text": [
      "[1, 2, 3, 4, 5]\n",
      "[1, 2, 3, 4, 5, 6]\n",
      "[1, 2, 3, 4, 5, 6, 'testo', 7, 8, 9]\n"
     ]
    }
   ],
   "source": [
    "lista = [1, 2, 3, 4, 5]\n",
    "print(lista)\n",
    "\n",
    "lista.append(6)\n",
    "print(lista)\n",
    "\n",
    "lista.append(\"testo\")\n",
    "lista.extend([7, 8, 9])\n",
    "\n",
    "print(lista)"
   ]
  },
  {
   "cell_type": "markdown",
   "metadata": {},
   "source": [
    "### FUNZIONE any([])"
   ]
  },
  {
   "cell_type": "code",
   "execution_count": 9,
   "metadata": {},
   "outputs": [
    {
     "name": "stdout",
     "output_type": "stream",
     "text": [
      "True\n",
      "False\n",
      "False\n",
      "True\n"
     ]
    }
   ],
   "source": [
    "print(any([False, True]))\n",
    "print(any([False]))\n",
    "print(any([False, False]))\n",
    "print(any([True, True]))"
   ]
  },
  {
   "cell_type": "markdown",
   "metadata": {},
   "source": [
    "requisiti password\n",
    "\n",
    "- almeno 8 caratteri\n",
    "- almeno 1 maiuscolo\n",
    "- almeno un carattere speciale (! + * _)"
   ]
  },
  {
   "cell_type": "code",
   "execution_count": null,
   "metadata": {},
   "outputs": [],
   "source": [
    "password = input( \"Enter your password: \")\n",
    "numeri = [0, 1, 2, 3, 4, 5, 6, 7, 8, 9]\n",
    "caratteri_speciali = [\"!\", \"+\", \"*\", \"_\"]\n",
    "\n",
    "\n",
    "if len(password) < 8:\n",
    "    print(\"Password is too short|\")\n",
    "elif index(password) "
   ]
  },
  {
   "cell_type": "code",
   "execution_count": null,
   "metadata": {},
   "outputs": [
    {
     "name": "stdout",
     "output_type": "stream",
     "text": [
      "Password is too short|\n",
      "Add a numeric value\n",
      "Add a special character\n",
      "Password is too short|\n",
      "Add an uppercase letter\n",
      "Password accepted.\n"
     ]
    }
   ],
   "source": [
    "special_characters = \"!@#$%^&*_+-='<>?`~\"\n",
    "\n",
    "def has_numeric(password):\n",
    "    for n in password:\n",
    "        if n.isnumeric():\n",
    "            return True\n",
    "    return False\n",
    "\n",
    "def has_upper(password):\n",
    "    for letter in password:\n",
    "        if letter.isupper():\n",
    "            return True\n",
    "    return False\n",
    "\n",
    "def has_special(password):\n",
    "    for special in special_characters:\n",
    "        if special in password:\n",
    "            return True\n",
    "    return False\n",
    "\n",
    "def check_password():\n",
    "    password = input( \"Enter your password: \")\n",
    "    if len(password) < 8:\n",
    "        print(\"Password is too short|\")\n",
    "        check_password()\n",
    "    elif not has_numeric(password):\n",
    "        print(\"Add a numeric value\")\n",
    "        check_password()\n",
    "    elif not has_upper(password):\n",
    "        print(\"Add an uppercase letter\")\n",
    "        check_password()\n",
    "    elif not has_special(password):\n",
    "        print(\"Add a special character\")\n",
    "        check_password()\n",
    "    else:\n",
    "        print(\"Password accepted.\")\n",
    "\n",
    "check_password()\n",
    "\n",
    "\n",
    "\n",
    "\n",
    "\n",
    "\n",
    "\n",
    "\n"
   ]
  },
  {
   "cell_type": "code",
   "execution_count": null,
   "metadata": {},
   "outputs": [],
   "source": [
    "dati_necessari = [\"nome\", \"cognome\", \"email\", \"password\"]\n",
    "\n",
    "def insert_data():\n",
    "    dati = {}\n",
    "    for i in dati_necessari:\n",
    "        dati[i] = input(f\"Inserisci il tuo {i}: \")\n",
    "    return dati\n"
   ]
  },
  {
   "cell_type": "code",
   "execution_count": 21,
   "metadata": {},
   "outputs": [
    {
     "data": {
      "text/plain": [
       "{'1': {'Nome': 'Elone',\n",
       "  'Cognome': 'Maschera',\n",
       "  'email': 'fragolone@ottmail.com'},\n",
       " '2': {'Nome': 'Donaldo', 'Cognome': 'Trombetta'}}"
      ]
     },
     "execution_count": 21,
     "metadata": {},
     "output_type": "execute_result"
    }
   ],
   "source": [
    "# crea un dizionario che contiene le info dei vari clienti\n",
    "\n",
    "clienti = {}\n",
    "cliente1 = {\"Nome\":\"Elone\", \"Cognome\":\"Maschera\", \"email\":\"fragolone@ottmail.com\"}\n",
    "clienti[\"1\"] = cliente1\n",
    "\n",
    "cliente2 = {\"Nome\":\"Donaldo\", \"Cognome\":\"Trombetta\"}\n",
    "clienti[\"2\"] = cliente2\n",
    "\n",
    "\n"
   ]
  },
  {
   "cell_type": "code",
   "execution_count": 11,
   "metadata": {},
   "outputs": [
    {
     "name": "stdout",
     "output_type": "stream",
     "text": [
      "3 3 3 3\n",
      "cat lion\n"
     ]
    }
   ],
   "source": [
    "list1 = ['cat', 'dog', 'fish'] #mutable     #can be reached by index\n",
    "tuple1 = ('lion', 'elephant', 'bird') #immutable     #can be reached by index\n",
    "set1 = {'tiger', 'bear', 'deer'} #mutable\n",
    "dict1 = {'lion': 4, 'elephant': 4, 'fish': 4} #mutable\n",
    "\n",
    "print(len(list1), len(tuple1), len(set1), len(dict1))\n",
    "\n",
    "print(list1[0], tuple1[0])\n",
    "\n"
   ]
  },
  {
   "cell_type": "code",
   "execution_count": 13,
   "metadata": {},
   "outputs": [
    {
     "name": "stdout",
     "output_type": "stream",
     "text": [
      "3 3 3 3\n",
      "cat lion\n",
      "4\n",
      "['cat', 'rabbit', 'fish']\n",
      "['cat', 'rabbit', 'fish', 'monkey']\n",
      "['cat', 'fish', 'monkey']\n",
      "{'lion': 4, 'elephant': 4, 'fish': 0}\n"
     ]
    }
   ],
   "source": [
    "list1 = ['cat', 'dog', 'fish']   #mutable     #can be reached by index\n",
    "tuple1 = ('lion', 'elephant', 'bird')   #immutable     #can be reached by index\n",
    "set1 = {'tiger', 'bear', 'deer'}   #mutable\n",
    "dict1 = {'lion': 4, 'elephant': 4, 'fish': 4}   #mutable\n",
    "\n",
    "print(len(list1), len(tuple1), len(set1), len(dict1))\n",
    "\n",
    "print(list1[0], tuple1[0])\n",
    "\n",
    "print(dict1['lion'])\n",
    "\n",
    "list1[1] = \"rabbit\"\n",
    "print(list1)\n",
    "\n",
    "list1.append(\"monkey\")\n",
    "print(list1)\n",
    "\n",
    "list1.remove(\"rabbit\")\n",
    "print(list1)\n",
    "\n",
    "dict1['fish'] = 0\n",
    "print(dict1)"
   ]
  },
  {
   "cell_type": "code",
   "execution_count": null,
   "metadata": {},
   "outputs": [],
   "source": []
  },
  {
   "cell_type": "code",
   "execution_count": null,
   "metadata": {},
   "outputs": [],
   "source": []
  },
  {
   "cell_type": "code",
   "execution_count": null,
   "metadata": {},
   "outputs": [],
   "source": []
  },
  {
   "cell_type": "code",
   "execution_count": null,
   "metadata": {},
   "outputs": [],
   "source": []
  },
  {
   "cell_type": "code",
   "execution_count": null,
   "metadata": {},
   "outputs": [],
   "source": []
  },
  {
   "cell_type": "code",
   "execution_count": null,
   "metadata": {},
   "outputs": [],
   "source": []
  },
  {
   "cell_type": "code",
   "execution_count": 1,
   "metadata": {},
   "outputs": [],
   "source": [
    "from datetime import datetime, timedelta"
   ]
  },
  {
   "cell_type": "code",
   "execution_count": null,
   "metadata": {},
   "outputs": [],
   "source": [
    "# crea un database del ns ristorante in cui abbiamo: 10 tavoli, ognuno con un numero di posti diverso.\n",
    "# crea un programma per la prenotazione dei tavoli, si prenota solo per il giorno stesso; un pasto non può durare più di 2 ore\n",
    "\n",
    "ristorante = {\"tavolo1\" : {\"numero_posti\" : 6, \"prenotato\" : False, \"orario_richiesto\" : None},\n",
    "         \"tavolo2\" : {\"numero_posti\" : 2, \"prenotato\" : False, \"orario_richiesto\" : None},\n",
    "         \"tavolo3\" : {\"numero_posti\" : 6, \"prenotato\" : False, \"orario_richiesto\" : None},\n",
    "         \"tavolo4\" : {\"numero_posti\" : 4, \"prenotato\" : False, \"orario_richiesto\" : None},\n",
    "         \"tavolo5\" : {\"numero_posti\" : 6, \"prenotato\" : False, \"orario_richiesto\" : None},\n",
    "         \"tavolo6\" : {\"numero_posti\" : 8, \"prenotato\" : False, \"orario_richiesto\" : None},\n",
    "         \"tavolo7\" : {\"numero_posti\" : 6, \"prenotato\" : False, \"orario_richiesto\" : None},\n",
    "         \"tavolo8\" : {\"numero_posti\" : 12, \"prenotato\" : False, \"orario_richiesto\" : None}\n",
    "         }\n",
    "\n",
    "\n",
    "\n",
    "def prendi_tavoli_candidati(posti_richiesti):\n",
    "    canditate_tables = []\n",
    "\n",
    "    for tavolo, value in ristorante.items():             # .items() serve a dirgli di prendere sia chiavi che valori (key and values)\n",
    "        posti_tavolo = value[\"num_posti\"]\n",
    "        if posti_richiesti <= posti_tavolo < posti_richiesti + 2:\n",
    "            canditate_tables.inser(0, tavolo)\n",
    "        elif posti_richiesti + 2 <= posti_tavolo < posti_richiesti + 3:\n",
    "            canditate_tables.append(tavolo)\n",
    "    return canditate_tables\n",
    "\n",
    "\n",
    "\n",
    "\n",
    "    \n",
    "\n",
    "\n"
   ]
  },
  {
   "cell_type": "code",
   "execution_count": 3,
   "metadata": {},
   "outputs": [
    {
     "name": "stdout",
     "output_type": "stream",
     "text": [
      "indice: 0\n",
      "animale: cane\n",
      "\n",
      "indice: 1\n",
      "animale: gatto\n",
      "\n",
      "indice: 2\n",
      "animale: topo\n",
      "\n"
     ]
    }
   ],
   "source": [
    "lista = [\"cane\", \"gatto\", \"topo\"]\n",
    "for i, animale in enumerate(lista):\n",
    "    print(f\"indice: {i}\\nanimale: {animale}\\n\")"
   ]
  },
  {
   "cell_type": "code",
   "execution_count": 1,
   "metadata": {},
   "outputs": [],
   "source": [
    "# Check orario\n",
    "def get_time_availability(tavolo, orario_richiesto):\n",
    "    \"\"\"\n",
    "    Verify if the reservation time is compatible for a specified table\n",
    "    \n",
    "    Parameters:\n",
    "    -----------\n",
    "    tavolo : string\n",
    "        Identifies the table ID.\n",
    "    orario_richiesto : datetime object\n",
    "        identifies the guests time request for reservation.\n",
    "\n",
    "    Returns:\n",
    "    --------\n",
    "    string or False\n",
    "        string: Table ID if tha table is available\n",
    "        False: if the table is not available\n",
    "\n",
    "    Examples:\n",
    "    --------\n",
    "    >>> get_time_availability(\"table3\", datetime)\n",
    "    \"table3\"\n",
    "    >>> get_time_availability(\"table6\", datetime)\n",
    "    False\n",
    "    \"\"\"\n",
    "\n",
    "\n",
    "    orari_prenotati = ristorante[tavolo][\"Orario_Prenotazione\"]\n",
    "    # Nessuna prenotazione\n",
    "    if orari_prenotati == None:\n",
    "        return tavolo\n",
    "    \n",
    "    # Prima o dopo gli estremi\n",
    "    elif orario_richiesto <= orari_prenotati[0] - timedelta(hours=2):\n",
    "        return tavolo\n",
    "    elif orario_richiesto >= orari_prenotati[-1] + timedelta(hours=2):\n",
    "        return tavolo\n",
    "    \n",
    "    # Nel mezzo (più di 2 orari prenotati)\n",
    "    if len(orari_prenotati) >= 2:\n",
    "        for i, orario_prenotato in enumerate(orari_prenotati):\n",
    "            if i != len(orari_prenotati): #Escludiamo l'ultima prenotazione\n",
    "                orario_precedente = orario_prenotato\n",
    "                orario_successivo = orari_prenotati[i+1]\n",
    "                if orario_precedente - timedelta(hours=2) <= orario_richiesto <= orario_successivo + timedelta(hours=2):\n",
    "                    return tavolo\n",
    "    print(f\"Il {tavolo} non è disponibile\")\n",
    "    return False"
   ]
  },
  {
   "cell_type": "code",
   "execution_count": null,
   "metadata": {},
   "outputs": [],
   "source": [
    "get_time_availability()"
   ]
  }
 ],
 "metadata": {
  "kernelspec": {
   "display_name": "Python 3",
   "language": "python",
   "name": "python3"
  },
  "language_info": {
   "codemirror_mode": {
    "name": "ipython",
    "version": 3
   },
   "file_extension": ".py",
   "mimetype": "text/x-python",
   "name": "python",
   "nbconvert_exporter": "python",
   "pygments_lexer": "ipython3",
   "version": "3.12.8"
  }
 },
 "nbformat": 4,
 "nbformat_minor": 2
}
