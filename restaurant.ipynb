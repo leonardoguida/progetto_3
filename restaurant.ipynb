{
 "cells": [
  {
   "cell_type": "markdown",
   "metadata": {},
   "source": [
    "## Codice fatto durante la lezione di lunedì 27/01 "
   ]
  },
  {
   "cell_type": "markdown",
   "metadata": {},
   "source": [
    "- crea un piccolo database del ristorante in cui ci sono 10 tavoli, con posti a sedere diversi \n",
    "- un programma attraverso il quale si possono prenotare i tavoli "
   ]
  },
  {
   "cell_type": "code",
   "execution_count": 1,
   "metadata": {},
   "outputs": [],
   "source": [
    "# importiamo la libreria che ci permette di leggere gli orari su python\n",
    "from datetime import datetime, timedelta"
   ]
  },
  {
   "cell_type": "code",
   "execution_count": 2,
   "metadata": {},
   "outputs": [],
   "source": [
    "# creazione del dizionario\n",
    "\n",
    "restaurant = {\"table1\": {\"seats\": 6, \"reserved\": False, \"reservation_time\": None},\n",
    "              \"table2\": {\"seats\": 2, \"reserved\": False, \"reservation_time\": None},\n",
    "              \"table3\": {\"seats\": 6, \"reserved\": False, \"reservation_time\": None},\n",
    "              \"table4\": {\"seats\": 4, \"reserved\": False, \"reservation_time\": None},\n",
    "              \"table5\": {\"seats\": 6, \"reserved\": False, \"reservation_time\": None},\n",
    "              \"table6\": {\"seats\": 8, \"reserved\": False, \"reservation_time\": None},\n",
    "              \"table7\": {\"seats\": 6, \"reserved\": False, \"reservation_time\": None},\n",
    "              \"table8\": {\"seats\": 12, \"reserved\": False, \"reservation_time\": None}\n",
    "              }"
   ]
  },
  {
   "cell_type": "code",
   "execution_count": 7,
   "metadata": {},
   "outputs": [],
   "source": [
    "# i tavoli possono essere prenotati con una differenza di orario di 2 ore \n",
    "\n",
    "def get_possible_table(seats_required):\n",
    "    \"\"\"\n",
    "    This function returns a list of possible tables, according to seat request and compatibility.\n",
    "\n",
    "    Parameters:\n",
    "    --------\n",
    "    seats_required : int\n",
    "        identifies the number of seats required by client.\n",
    "\n",
    "    Returns:\n",
    "    --------\n",
    "    list\n",
    "        list: list of possible tables \n",
    "        \n",
    "\n",
    "    Examples:\n",
    "    --------\n",
    "    >>> get_possible_table(5)\n",
    "    [\"table3\", \"table5]\n",
    "    >>> get_possible_table(16)\n",
    "    []\n",
    "    \"\"\"\n",
    "    \n",
    "    possible_tables = []\n",
    "    for table, value in restaurant.items():\n",
    "        seats_for_table = value[\"seats\"]\n",
    "        if seats_required <= seats_for_table <= seats_required + 1:\n",
    "            possible_tables.insert(0, table)\n",
    "        elif seats_required + 2 <= seats_for_table <= seats_required + 3:\n",
    "            possible_tables.append(table)\n",
    "    return possible_tables"
   ]
  },
  {
   "cell_type": "markdown",
   "metadata": {},
   "source": [
    "### funzionamento della funzione qui sopra"
   ]
  },
  {
   "cell_type": "code",
   "execution_count": null,
   "metadata": {},
   "outputs": [],
   "source": [
    "#come funziona la funzione della cella qui sopra\n",
    "possible_tables = []\n",
    "possible_tables.insert(0, \"table1\")\n",
    "print(\"1)\", possible_tables)\n",
    "possible_tables.append(\"table2\")\n",
    "print(\"2)\", possible_tables)\n",
    "possible_tables.insert(0, \"table3\")\n",
    "print(\"3)\", possible_tables)"
   ]
  },
  {
   "cell_type": "markdown",
   "metadata": {},
   "source": [
    "## continua codice"
   ]
  },
  {
   "cell_type": "code",
   "execution_count": 4,
   "metadata": {},
   "outputs": [],
   "source": [
    "def get_available_time(table, time_request):\n",
    "    \"\"\"\n",
    "    This function verifies if a reservation time is compatible for a specified table\n",
    "    \n",
    "    Parameters:\n",
    "    --------\n",
    "    table : string\n",
    "        identifies the table id.\n",
    "    time_request: datetime object \n",
    "        identifies the guests time request for reservation.\n",
    "\n",
    "    Returns:\n",
    "    --------\n",
    "    string or False \n",
    "        string (table id): if the table is available for that time \n",
    "        False: if the table is not available\n",
    "\n",
    "    Examples:\n",
    "    --------\n",
    "    >>> get_available_time(string, datetime)\n",
    "    \"table3\"\n",
    "    >>> get_available_time(string, datetime)\n",
    "    False\n",
    "    \"\"\"\n",
    "    reserved_time = restaurant[table][\"reservation_time\"]\n",
    "\n",
    "    # no reservation\n",
    "    if reserved_time == None:\n",
    "        return table\n",
    "    \n",
    "    \n",
    "    # before or after the extreme\n",
    "    if reservation_time < reserved_time[0] - timedelta(hours=2):\n",
    "        return table\n",
    "    elif reservation_time >= reserved_time[-1] + timedelta(hours=2):\n",
    "        return table \n",
    "    \n",
    "    \n",
    "    # in the middle \n",
    "    if len(reserved_time) >= 2:\n",
    "        for i, reservation_time in enumerate(reserved_time):\n",
    "            if i != len(reserved_time):  # escludiamo l'ultima prenotazione perché non ha un orario successivo\n",
    "                following_time = reserved_time [i+1]\n",
    "                previous_time = reserved_time[i]\n",
    "                if previous_time - timedelta(hours=2) <= reservation_time <= following_time + timedelta(hours=2):\n",
    "                    return table\n",
    "            \n",
    "    \n",
    "    print(f\"{table} is not available\")\n",
    "    return False"
   ]
  },
  {
   "cell_type": "code",
   "execution_count": 5,
   "metadata": {},
   "outputs": [],
   "source": [
    "def booking_confirmation(table, time):\n",
    "    if restaurant[table][\"reservation_time\"]:\n",
    "        restaurant[table][\"reservation_time\"] = restaurant[table][\"reservation_time\"].append(time).sort()    # sort serve a mettere gli orari in ordine crescente\n",
    "    else:\n",
    "        restaurant[table][\"reservation_time\"] = [time]"
   ]
  },
  {
   "cell_type": "code",
   "execution_count": 6,
   "metadata": {},
   "outputs": [],
   "source": [
    "# check reservation\n",
    "\n",
    "def get_reservation(time, people):\n",
    "    time = datetime.strptime(time, \"%H:%M\").time()\n",
    "\n",
    "    compatible_tables = get_possible_table(people)\n",
    "\n",
    "    if not compatible_tables:\n",
    "        print(\"We do not move tables.\")\n",
    "        return\n",
    "    \n",
    "    for table in compatible_tables:\n",
    "        available_table = get_available_time(table, time)\n",
    "        if available_table: \n",
    "            print(\"Table found, proceed with your reservation!\")\n",
    "            booking = input(\"Do you want to confirm the reservation? [Y/N]\").lower == \"y\"\n",
    "            if booking:\n",
    "                booking_confirmation(table, time)\n",
    "                return\n",
    "    \n",
    "    print(\"Thank you for your confirmation, see you there!\")"
   ]
  },
  {
   "cell_type": "code",
   "execution_count": 6,
   "metadata": {},
   "outputs": [
    {
     "name": "stdout",
     "output_type": "stream",
     "text": [
      "2\n",
      "args 3\n",
      "args 5\n",
      "args 6\n",
      "kwargs film rr\n",
      "kwargs country Germany\n",
      "kwargs city Berlin\n"
     ]
    }
   ],
   "source": [
    "def my_function(p, *args, **kwargs):        # kwargs = key word arguments\n",
    "    print(p)\n",
    "    for p in args:\n",
    "        print(\"args\", p)\n",
    "    for p in kwargs:\n",
    "        print(\"kwargs\", p, kwargs[p])\n",
    "\n",
    "\n",
    "my_function(2, 3, 5, 6, film = \"rr\", country = \"Germany\", city = \"Berlin\")"
   ]
  },
  {
   "cell_type": "code",
   "execution_count": 7,
   "metadata": {},
   "outputs": [
    {
     "data": {
      "text/plain": [
       "10"
      ]
     },
     "execution_count": 7,
     "metadata": {},
     "output_type": "execute_result"
    }
   ],
   "source": [
    "def func(a, b, c):\n",
    "    return a + b + c\n",
    "\n",
    "list = [1, 4, 5]\n",
    "\n",
    "func(*list)"
   ]
  },
  {
   "cell_type": "markdown",
   "metadata": {},
   "source": [
    "FUNZIONE NELLA FUNZIONE"
   ]
  },
  {
   "cell_type": "code",
   "execution_count": 9,
   "metadata": {},
   "outputs": [
    {
     "data": {
      "text/plain": [
       "81"
      ]
     },
     "execution_count": 9,
     "metadata": {},
     "output_type": "execute_result"
    }
   ],
   "source": [
    "def sum_numbers(a, b, c):\n",
    "    return a + b + c\n",
    "\n",
    "def square_of_the_sum(a, b, c):\n",
    "    sum_ = sum_numbers(a, b, c)\n",
    "    return (sum_) **2\n",
    "\n",
    "square_of_the_sum(2, 3, 4)"
   ]
  },
  {
   "cell_type": "code",
   "execution_count": 12,
   "metadata": {},
   "outputs": [
    {
     "name": "stdout",
     "output_type": "stream",
     "text": [
      "f\n"
     ]
    }
   ],
   "source": [
    "## LAMBDA FUNCTIONS\n",
    "\n",
    "f = lambda x : x + 3\n",
    "\n",
    "f(3)\n",
    "\n"
   ]
  },
  {
   "cell_type": "code",
   "execution_count": 13,
   "metadata": {},
   "outputs": [
    {
     "data": {
      "text/plain": [
       "34"
      ]
     },
     "execution_count": 13,
     "metadata": {},
     "output_type": "execute_result"
    }
   ],
   "source": [
    "g = lambda a, b : a * b + 4\n",
    "\n",
    "g(5, 6)"
   ]
  },
  {
   "cell_type": "code",
   "execution_count": 16,
   "metadata": {},
   "outputs": [
    {
     "data": {
      "text/plain": [
       "'hello you'"
      ]
     },
     "execution_count": 16,
     "metadata": {},
     "output_type": "execute_result"
    }
   ],
   "source": [
    "h = lambda l : l + \"you\"\n",
    "\n",
    "h(\"hello \")"
   ]
  },
  {
   "cell_type": "markdown",
   "metadata": {},
   "source": [
    "### RECURSIVE FUNCTIONS"
   ]
  },
  {
   "cell_type": "code",
   "execution_count": 25,
   "metadata": {},
   "outputs": [
    {
     "name": "stdout",
     "output_type": "stream",
     "text": [
      "1 1\n",
      "1 2\n",
      "2 3\n",
      "6 4\n",
      "24 5\n"
     ]
    },
    {
     "data": {
      "text/plain": [
       "120"
      ]
     },
     "execution_count": 25,
     "metadata": {},
     "output_type": "execute_result"
    }
   ],
   "source": [
    "# Given a number n we want to derive the factorielle of this number\n",
    "\n",
    "def factorielle(n):\n",
    "    result = 1\n",
    "    for i in range(1, n + 1):\n",
    "        print(result, i)\n",
    "        result = result * i\n",
    "    return result\n",
    "\n",
    "factorielle(5)"
   ]
  },
  {
   "cell_type": "code",
   "execution_count": 26,
   "metadata": {},
   "outputs": [
    {
     "name": "stdout",
     "output_type": "stream",
     "text": [
      "1 1\n",
      "1 2\n",
      "2 3\n",
      "6 4\n",
      "24 5\n",
      "120 6\n"
     ]
    },
    {
     "data": {
      "text/plain": [
       "720"
      ]
     },
     "execution_count": 26,
     "metadata": {},
     "output_type": "execute_result"
    }
   ],
   "source": [
    "factorielle(6)"
   ]
  },
  {
   "cell_type": "code",
   "execution_count": 33,
   "metadata": {},
   "outputs": [
    {
     "name": "stdout",
     "output_type": "stream",
     "text": [
      "Here we are going to execute the function with n = 5\n",
      "Here we are going to execute the function with n = 4\n",
      "Here we are going to execute the function with n = 3\n",
      "Here we are going to execute the function with n = 2\n",
      "The value of f is = 2\n",
      "The value of f is = 6\n",
      "The value of f is = 24\n",
      "The value of f is = 120\n"
     ]
    },
    {
     "data": {
      "text/plain": [
       "120"
      ]
     },
     "execution_count": 33,
     "metadata": {},
     "output_type": "execute_result"
    }
   ],
   "source": [
    "def factorielle_recoursive(n):\n",
    "    if n == 1:\n",
    "        f = 1\n",
    "    else:\n",
    "        print(\"Here we are going to execute the function with n =\", n)\n",
    "        \n",
    "        f = n * factorielle_recoursive(n - 1)\n",
    "\n",
    "        print(\"The value of f is =\", f)\n",
    "        \n",
    "    return f\n",
    "\n",
    "\n",
    "factorielle_recoursive(5)\n"
   ]
  },
  {
   "cell_type": "markdown",
   "metadata": {},
   "source": [
    "##### fact(6) = 6 * 5 * 4 * 3 * 2 * 1\n",
    "\n",
    "oppure\n",
    "\n",
    "fact(6) = 6 * fact(5)"
   ]
  },
  {
   "cell_type": "code",
   "execution_count": null,
   "metadata": {},
   "outputs": [],
   "source": [
    "5! = 5 * 4 * 3 * 2 * 1   # 5! significa 5 fattoriale"
   ]
  },
  {
   "cell_type": "code",
   "execution_count": null,
   "metadata": {},
   "outputs": [],
   "source": [
    "n! = n * (n - 1) * (n - 2) * * * 3 * 2 * 1"
   ]
  },
  {
   "cell_type": "code",
   "execution_count": 36,
   "metadata": {},
   "outputs": [
    {
     "name": "stdout",
     "output_type": "stream",
     "text": [
      "Leonardo\n"
     ]
    }
   ],
   "source": [
    "import os\n",
    "\n",
    "user = os.getlogin()\n",
    "\n",
    "print(user)"
   ]
  },
  {
   "cell_type": "code",
   "execution_count": 65,
   "metadata": {},
   "outputs": [
    {
     "name": "stdout",
     "output_type": "stream",
     "text": [
      "Hello John Doe!\n",
      "Hello Tristram Mcbride!\n",
      "Hello Baldwin Preston!\n",
      "Hello Wally Collins!\n"
     ]
    }
   ],
   "source": [
    "\n",
    "def greet(name = \"John\", surname = \"Doe\"):\n",
    "    print(f\"Hello {name} {surname}!\")\n",
    "\n",
    "list_members_of_family = [\n",
    "    {\"name\": \"John\", \"surname\": \"Doe\"},\n",
    "    {\"name\": \"Tristram\", \"surname\": \"Mcbride\"},\n",
    "    {\"name\": \"Baldwin\", \"surname\": \"Preston\"},\n",
    "    {\"name\": \"Wally\", \"surname\": \"Collins\"}\n",
    "]\n",
    "for member in list_members_of_family:\n",
    "    greet(member[\"name\"], member[\"surname\"])"
   ]
  },
  {
   "cell_type": "code",
   "execution_count": 71,
   "metadata": {},
   "outputs": [
    {
     "name": "stdout",
     "output_type": "stream",
     "text": [
      "List:  [-52, -52, 15, 29, 51, -33, -85, 63, 93, 68, 74, -14, 85, -96, 20]\n",
      "Sum:  166\n"
     ]
    }
   ],
   "source": [
    "import random\n",
    "\n",
    "def random_list_summer(n=15):\n",
    "    random_list = [random.randint(-100, 100) for _ in range(n)]\n",
    "    print(\"List: \", random_list)\n",
    "    print(\"Sum: \", sum(random_list))\n",
    "\n",
    "random_list_summer()"
   ]
  },
  {
   "cell_type": "code",
   "execution_count": 72,
   "metadata": {},
   "outputs": [
    {
     "name": "stdout",
     "output_type": "stream",
     "text": [
      "Fibonacci Sequence: [0, 1, 1, 2, 3]\n"
     ]
    }
   ],
   "source": [
    "def fibonacci(n):\n",
    "    if n == 0:\n",
    "        return 0\n",
    "    elif n == 1:\n",
    "        return 1\n",
    "    else:\n",
    "        return fibonacci(n-1) + fibonacci(n-2)\n",
    "\n",
    "fibonacci_sequence = [fibonacci(i) for i in range(5)]\n",
    "\n",
    "print(\"Fibonacci Sequence:\", fibonacci_sequence)\n"
   ]
  },
  {
   "cell_type": "code",
   "execution_count": 73,
   "metadata": {},
   "outputs": [
    {
     "name": "stdout",
     "output_type": "stream",
     "text": [
      "Transformed Numbers: [1, 4, 3, 16, 5, 36, 7, 64]\n"
     ]
    }
   ],
   "source": [
    "square_of_even = lambda x: x**2 if x % 2 == 0 else x\n",
    "\n",
    "numbers = [1, 2, 3, 4, 5, 6, 7, 8]\n",
    "\n",
    "result = [square_of_even(x) for x in numbers]\n",
    "\n",
    "print(\"Transformed Numbers:\", result)\n"
   ]
  }
 ],
 "metadata": {
  "kernelspec": {
   "display_name": "Python 3",
   "language": "python",
   "name": "python3"
  },
  "language_info": {
   "codemirror_mode": {
    "name": "ipython",
    "version": 3
   },
   "file_extension": ".py",
   "mimetype": "text/x-python",
   "name": "python",
   "nbconvert_exporter": "python",
   "pygments_lexer": "ipython3",
   "version": "3.12.8"
  }
 },
 "nbformat": 4,
 "nbformat_minor": 2
}
