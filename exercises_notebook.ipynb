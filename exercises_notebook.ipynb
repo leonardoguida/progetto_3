{
 "cells": [
  {
   "cell_type": "code",
   "execution_count": 3,
   "metadata": {},
   "outputs": [
    {
     "name": "stdout",
     "output_type": "stream",
     "text": [
      "Hi, \n",
      "my name is \n",
      "John Doe \n",
      "python\n"
     ]
    }
   ],
   "source": [
    "print(\"Hi, \\nmy name is \\nJohn Doe \\n\"\n",
    "\"python\")\n"
   ]
  },
  {
   "cell_type": "code",
   "execution_count": 6,
   "metadata": {},
   "outputs": [
    {
     "name": "stdout",
     "output_type": "stream",
     "text": [
      "1 polka polka polka 7.4\n"
     ]
    }
   ],
   "source": [
    "a, b, c = 1, \"polka polka polka\", 7.4\n",
    "print(a, b, c)"
   ]
  },
  {
   "cell_type": "code",
   "execution_count": 13,
   "metadata": {},
   "outputs": [
    {
     "name": "stdout",
     "output_type": "stream",
     "text": [
      "12 Hello\n",
      "Hello 12\n"
     ]
    }
   ],
   "source": [
    "a = 12\n",
    "b = 'Hello'\n",
    "print(a, b)\n",
    "\n",
    "# swap the values\n",
    "a, b = b, a\n",
    "print(a, b)"
   ]
  },
  {
   "cell_type": "code",
   "execution_count": 21,
   "metadata": {},
   "outputs": [
    {
     "name": "stdout",
     "output_type": "stream",
     "text": [
      "6 8 2\n",
      "6\n",
      "8\n",
      "2\n"
     ]
    }
   ],
   "source": [
    "Hello = 'Hello!'\n",
    "name = 'John Doe'\n",
    "age = '40'\n",
    "print(len(Hello), len(name), len(age))\n",
    "# oppure\n",
    "print(len(Hello))\n",
    "print(len(name))\n",
    "print(len(age))"
   ]
  },
  {
   "cell_type": "code",
   "execution_count": 17,
   "metadata": {},
   "outputs": [
    {
     "name": "stdout",
     "output_type": "stream",
     "text": [
      "HELLO WORLD\n"
     ]
    }
   ],
   "source": [
    "text = \"hello world\"\n",
    "uppercase = text.upper()\n",
    "print(uppercase)"
   ]
  },
  {
   "cell_type": "code",
   "execution_count": 26,
   "metadata": {},
   "outputs": [
    {
     "name": "stdout",
     "output_type": "stream",
     "text": [
      "0\n",
      "7\n"
     ]
    }
   ],
   "source": [
    "text = \"hello world\"\n",
    "index = text.find(\"hello\")\n",
    "index2 = text.find(\"orld\")\n",
    "print(index)\n",
    "print(index2)"
   ]
  },
  {
   "cell_type": "code",
   "execution_count": 18,
   "metadata": {},
   "outputs": [
    {
     "name": "stdout",
     "output_type": "stream",
     "text": [
      "on Tom LONG wolk\n",
      "<class 'str'>\n",
      "<class 'str'>\n",
      "['on', 'Tom', 'LONG', 'wolk']\n",
      "<class 'list'>\n"
     ]
    }
   ],
   "source": [
    "# METHODS 1\n",
    "\"\"\" You're creating a software for a signage company that processes customer's requests into LED signs.\n",
    " They have received a request with specific instructions: \"\"\"\n",
    "\n",
    "\n",
    "### The customer wants all prepositions in the text to be in lowercase. So, change the word \"ON\" to lowercase. \n",
    "word = \"ON\"\n",
    "word_c = word.lower()\n",
    "\n",
    "### The customer insists that all names in the text must be capitalized. Please capitalize the name \"tom\".\n",
    "name = \"tom\"\n",
    "name_c = name.capitalize()\n",
    "\n",
    "### The customer wants to highlight the duration of the walk by making the word \"long\" uppercase.\n",
    "word2 = \"long\"\n",
    "word2_c = word2.upper()\n",
    "\n",
    "### Due to a particular reason, the customer would like to replace the 'a' with 'o' in the word \"walk\". Apply this change.\n",
    "word3 = \"walk\"\n",
    "word3_c = word3.replace(\"a\", \"o\")\n",
    "\n",
    "### After making the above changes, print the final sign text.\n",
    "final_sign_test = word_c + \" \" + name_c + \" \" + word2_c + \" \" + word3_c # facendo una concatenazione di stringhe, non servono le parentesi\n",
    "print(final_sign_test)\n",
    "print(type(final_sign_test))\n",
    "print(type(final_sign_test[0]))\n",
    "\n",
    "### The company's LED programming software requires each word of the sentence as a separate string.\n",
    "### Use the appropriate python method to split the final sign text into separate words.\n",
    "split_final_sign_test = final_sign_test.split()\n",
    "print(split_final_sign_test)\n",
    "print(type(split_final_sign_test))"
   ]
  },
  {
   "cell_type": "code",
   "execution_count": 12,
   "metadata": {},
   "outputs": [
    {
     "name": "stdout",
     "output_type": "stream",
     "text": [
      "Hello, James! You are 25 years old.\n"
     ]
    }
   ],
   "source": [
    "# METHODS 2\n",
    "\"\"\" You're building an automated check-in system for a tech conference.\n",
    " When the attendees log in with their name and age, the system greets them and mentions their age. You've been given these variables: \"\"\"\n",
    "\n",
    "\n",
    "### An attendee named \"James\" who is \"25\" years old logs into the system. Please assign these values to the name and age variables.\n",
    "name = \"James\"\n",
    "age = 25\n",
    "\n",
    "\n",
    "### Now, you need to construct a greeting message that mentions the attendee's name and age. Store this in the hello variable using formatted string literals (f-strings).\n",
    "hello = f\"Hello, {name}! You are {age} years old.\"\n",
    "\n",
    "\n",
    "### Finally, print the greeting message.\n",
    "print(hello)\n"
   ]
  },
  {
   "cell_type": "code",
   "execution_count": 21,
   "metadata": {},
   "outputs": [
    {
     "name": "stdout",
     "output_type": "stream",
     "text": [
      "Hello! My name is Champion Massimo Disprezzo, I am 30 years old and I live in Foggiatown.\n",
      "Hello! My name is Champion Massimo Disprezzo, I am 30 years old and I live in Foggiatown.\n",
      "Name: Champion Massimo Disprezzo, type: <class 'str'>\n",
      "Age: 30, type: <class 'int'>\n",
      "City: Foggiatown, type: <class 'str'>\n",
      "Height: 1.8, type: <class 'float'>\n",
      "Is Hero: True, type: <class 'bool'>\n"
     ]
    }
   ],
   "source": [
    "# METHODS 3\n",
    "\"\"\" You're a character in a new video game. Your task is to complete your profile by doing the following: \"\"\"\n",
    "\n",
    "\n",
    "### Begin by creating variables for your character's name, age, and city of residence.\n",
    "name = \"Massimo Disprezzo\"\n",
    "age = 30\n",
    "city = \"Foggiatown\"\n",
    "\n",
    "\n",
    "### Next, you need to introduce yourself to the other characters in the game. Use string concatenation to display a sentence about yourself using the above variables.\n",
    "character_intro = \"Hello! My name is \" + name + \", I am \" + str(age) + \" years old and I live in \" + city + \".\"\n",
    "\n",
    "\n",
    "### As you progress through the game, you earn the title of \"Champion\". Modify your name variable to add this title in front of your name.\n",
    "name = \"Champion \" + name\n",
    "\n",
    "\n",
    "### Announce your new status to the other characters. Use the string format method to display the same sentence as your introduction, but with your new title.\n",
    "new_character_intro = \"Hello! My name is {}, I am {} years old and I live in {}.\".format(name, age, city)\n",
    "print(new_character_intro)\n",
    "# posso fare anche così:\n",
    "second_character_intro = f\"Hello! My name is {name}, I am {age} years old and I live in {city}.\"\n",
    "print(second_character_intro)\n",
    "\n",
    "\n",
    "\n",
    "### Additional details about your character have been unlocked! Create a variable called \"height\" and assign a floating point value to it. Also, create a variable called \"is_hero\" and assign a boolean value to it.\n",
    "height = 1.80\n",
    "is_hero = True\n",
    "\n",
    "\n",
    "### Lastly, check your profile to ensure all your details are correct. Print the type of each variable from the previous exercise using the format method or f-string.\n",
    "print(f\"Name: {name}, type: {type(name)}\")\n",
    "print(f\"Age: {age}, type: {type(age)}\")\n",
    "print(f\"City: {city}, type: {type(city)}\")\n",
    "print(f\"Height: {height}, type: {type(height)}\")\n",
    "print(f\"Is Hero: {is_hero}, type: {type(is_hero)}\")\n"
   ]
  },
  {
   "cell_type": "code",
   "execution_count": 12,
   "metadata": {},
   "outputs": [
    {
     "name": "stdout",
     "output_type": "stream",
     "text": [
      "Hello! My name is Leonardo, I am 29 years old and I live in San Marco in Lamis.\n",
      "Leonardo Guida\n",
      "My favorite programming language is Python.\n",
      "Leonardo is 30 years old.\n",
      "The bio has 39 characters.\n"
     ]
    }
   ],
   "source": [
    "# METHODS 4\n",
    "\"\"\" Imagine you're developing a social media application where users can share their coding projects.\n",
    "You need to create a user profile. Here's what you need to do: \"\"\" \n",
    "\n",
    "\n",
    "\n",
    "# 1. Start by asking the user for their name, age, and city of residence using the input() function.\n",
    "\n",
    "name = input(\"What's your name? \")\n",
    "age = input (\"How old are you? \")\n",
    "city = input(\"Where do you live? \")\n",
    "\n",
    "\n",
    "\n",
    "\n",
    "# 2. Store the user's input in variables and create a sentence that will be displayed on their profile page.\n",
    "\n",
    "profile_sentence = f\"Hello! My name is {name}, I am {age} years old and I live in {city}.\"\n",
    "print(profile_sentence)\n",
    "\n",
    "\n",
    "\n",
    "\n",
    "\n",
    "# 3. To maintain uniformity in your app, you need to ensure that all profile information is in lowercase. Apply the lower() method to your variables.\n",
    "\n",
    "name_lowercase = name.lower()\n",
    "age_lowercase = age.lower()\n",
    "city_lowercase = city.lower()\n",
    "\n",
    "profile_sentence_lowercase = f\"Hello! My name is {name_lowercase}, I am {age_lowercase} years old and I live in {city_lowercase}.\"\n",
    "\n",
    "\n",
    "# 4. Now, your app needs to have a character limit on the profile description. Use the len() function to find the length of each string.\n",
    "\n",
    "name_length = len(name)\n",
    "age_length = len(age)\n",
    "city_length = len(city)\n",
    "\n",
    "\n",
    "\n",
    "\n",
    "# 5. Ask the user for their first and last names separately, store these in two variables and combine them to form a full name string.\n",
    "\n",
    "first_name = input(\"What's your first name? \")\n",
    "last_name = input(\"What's your last name? \")\n",
    "complete_name = first_name + \" \" + last_name\n",
    "print(complete_name)\n",
    "\n",
    "\n",
    "\n",
    "\n",
    "# 6. Your app has a feature that lets users share their favorite programming language. Create a variable fav_language and construct a sentence stating your favorite language.\n",
    "\n",
    "fav_language = input(\"What's your favorite programming language? \")\n",
    "fav_language_sentence = f\"My favorite programming language is {fav_language}.\"\n",
    "print(fav_language_sentence)\n",
    "\n",
    "\n",
    "\n",
    "\n",
    "#7. The app also has an age verification feature. The user needs to input the current year and their birth year. Your program should calculate and print the user's age.\n",
    "\n",
    "current_year = input(\"Input the current year: \")\n",
    "birth_year = input(\"Input your birth year: \")\n",
    "age_result = int(current_year) - int(birth_year)\n",
    "print(f\"{first_name} is {age_result} years old.\")\n",
    "\n",
    "\n",
    "\n",
    "\n",
    "\n",
    "# 8. Finally, your users can add a bio to their profile. Have the user input a sentence for their bio and print the number of characters in it.\n",
    "\n",
    "bio = input(\"Write a bio\")\n",
    "bio_length = len(bio)\n",
    "print(f\"The bio has {bio_length} characters.\")\n"
   ]
  },
  {
   "cell_type": "code",
   "execution_count": 33,
   "metadata": {},
   "outputs": [
    {
     "name": "stdout",
     "output_type": "stream",
     "text": [
      "Hello L...o!\n",
      "Welcome to the chatbot, Leonardo!\n",
      "I'm happy that you're feeling bene today!\n",
      "Your daily message's words:\n",
      "se\n",
      "ni\n",
      "mondo\n",
      "esistesse\n",
      "un\n",
      "po'\n",
      "di\n",
      "bene\n",
      "e\n",
      "ognun\n",
      "si\n",
      "considerasse\n",
      "suo\n",
      "fratello,\n",
      "ci\n",
      "sarebbero\n",
      "meno\n",
      "pensieri\n",
      "e\n",
      "meno\n",
      "pene,\n",
      "e\n",
      "il\n",
      "mondo\n",
      "ne\n",
      "sarebbe\n",
      "assai\n",
      "più\n",
      "bello\n"
     ]
    }
   ],
   "source": [
    "# METHODS 5\n",
    "\"\"\"Imagine you're developing a chatbot that interacts with users. The chatbot needs to be able to process users' input in various ways. Here's what you need to do:\"\"\"\n",
    "\n",
    "\n",
    "\n",
    "# 1. For the chatbot's reply to feel personal, it starts by saying hello and the first letter of the user's name and ends the sentence with the last letter of the user's name. Use string slicing to extract these.\n",
    "\n",
    "name = input(\"What's your name? \")\n",
    "chatbot_start = f\"Hello {name[0]}...{name[-1]}!\"\n",
    "print(chatbot_start)\n",
    "\n",
    "\n",
    "\n",
    "\n",
    "# 2. To avoid spam or inappropriate inputs, the chatbot checks if the user's name contains any digits. Implement this feature using string methods.\n",
    "\n",
    "name.isdigit()\n",
    "if any (char.isdigit() for char in name):\n",
    "    print(\"Please enter a valid name, by using only alphabetic characters\")\n",
    "else:\n",
    "    print(f\"Welcome to the chatbot, {name}!\")\n",
    "\n",
    "\n",
    "\n",
    "\n",
    "\n",
    "# 3. The chatbot uses natural language processing to understand user input. If a user says they're feeling \"sad\", the chatbot should replace \"sad\" with \"happy\" to try and cheer them up.\n",
    "\n",
    "feels = input(\"How are you feeling today? \")\n",
    "feels_replaced = feels.replace(\"sad\", \"happy\")\n",
    "print(f\"I'm happy that you're feeling {feels_replaced} today!\")\n",
    "\n",
    "\n",
    "\n",
    "\n",
    "\n",
    "# 4. The chatbot needs to analyze user input. It breaks down sentences into individual words. Use the split() method to split the sentence about the user into a list of words and print each word on a new line.\n",
    "\n",
    "sentence = input(\"Write your daily message: \")\n",
    "words = sentence.split()\n",
    "print(\"Your daily message's words:\")\n",
    "for word in words:\n",
    "    print(word)\n"
   ]
  },
  {
   "cell_type": "code",
   "execution_count": 30,
   "metadata": {},
   "outputs": [
    {
     "name": "stdout",
     "output_type": "stream",
     "text": [
      "Nice to meet you L...o\n",
      "Thanks for providing your name!\n",
      "You'll be happy tomorrow\n",
      "Here's what you said, word by word:\n",
      "se\n",
      "ni\n",
      "mondo\n"
     ]
    }
   ],
   "source": [
    "# METHODS 5 - ESEMPIO\n",
    "\n",
    "\"\"\" Anna \"\"\"\n",
    "\n",
    "\n",
    "\n",
    "#Step 1: Greet the user with the first and last letter of their name\n",
    "user_name = input(\"Hi! What's your name? \")\n",
    "\n",
    "#Extract the first and last letters of the user's name using string slicing\n",
    "first_letter = user_name[0]\n",
    "last_letter = user_name[-1]\n",
    "\n",
    "#Chatbot's personalized greeting\n",
    "print(f\"Nice to meet you {first_letter}...{last_letter}\")\n",
    "\n",
    "#Step 2: Check if the user's name contains any digits\n",
    "if any(char.isdigit() for char in user_name):\n",
    "    print(\"Your name contain numbers. Are you sure that's correct?\")\n",
    "else:\n",
    "    print(\"Thanks for providing your name!\")\n",
    "\n",
    "#Step 3: Replace \"sad\" with \"happy\" in the user's input\n",
    "user_feeling = input(\"How are you feeling today? \")\n",
    "\n",
    "#Replace \"sad\" with \"happy\" (case-insensitive)\n",
    "cheerful_reply = user_feeling.replace(\"sad\", \"happy\").replace(\"Sad\", \"Happy\")\n",
    "print(f\"You'll be {cheerful_reply} tomorrow\")\n",
    "\n",
    "#Step 4: Analyze user input by splitting it into words and printing each word on a new line\n",
    "user_sentence = input(\"Tell me something about yourself: \")\n",
    "\n",
    "#Split the sentence into words\n",
    "words = user_sentence.split()\n",
    "\n",
    "print(\"Here's what you said, word by word:\")\n",
    "for word in words:\n",
    "    print(word)\n",
    "\n"
   ]
  },
  {
   "cell_type": "code",
   "execution_count": 10,
   "metadata": {},
   "outputs": [
    {
     "name": "stdout",
     "output_type": "stream",
     "text": [
      "occhiazzeppi e il matrimonio più bello di R\n"
     ]
    }
   ],
   "source": [
    "name = \"Scrocchiazzeppi e il matrimonio più bello di Roma\"\n",
    "print(name[3:-3])\n",
    "# prendo una porzione di stringa, definendo gli estremi. In questo caso, prendo dalla posizione 3 alla posizione -3 (che viene esclusa)"
   ]
  },
  {
   "cell_type": "code",
   "execution_count": 14,
   "metadata": {},
   "outputs": [
    {
     "name": "stdout",
     "output_type": "stream",
     "text": [
      "What a wonderful world\n",
      "WONDERFUL\n",
      "Today is a Wonderful day!\n"
     ]
    }
   ],
   "source": [
    "string = \"What a wonderful world\"\n",
    "print(string)\n",
    "slice = string[7:-6]\n",
    "print(slice.upper())\n",
    "print(f\"Today is a {slice.capitalize()} day!\")"
   ]
  },
  {
   "cell_type": "code",
   "execution_count": 15,
   "metadata": {},
   "outputs": [],
   "source": [
    "# DEFINIRE UNA FUNZIONE\n",
    "def print_last_letter_of(string):\n",
    "    last_letter = string[-1]\n",
    "    print(last_letter)\n"
   ]
  },
  {
   "cell_type": "code",
   "execution_count": 17,
   "metadata": {},
   "outputs": [
    {
     "name": "stdout",
     "output_type": "stream",
     "text": [
      "w\n"
     ]
    }
   ],
   "source": [
    "print_last_letter_of(string = \"No more sorrow\")"
   ]
  },
  {
   "cell_type": "code",
   "execution_count": 18,
   "metadata": {},
   "outputs": [
    {
     "name": "stdout",
     "output_type": "stream",
     "text": [
      "w\n"
     ]
    }
   ],
   "source": [
    "# tra le parentesi non serve inserire string = \"No more sorrow\" perché la funzione è già definita con un parametro string\n",
    "print_last_letter_of(\"No more sorrow\")"
   ]
  },
  {
   "cell_type": "code",
   "execution_count": 20,
   "metadata": {},
   "outputs": [
    {
     "name": "stdout",
     "output_type": "stream",
     "text": [
      "r\n"
     ]
    }
   ],
   "source": [
    "var = \"I'm a believer\"\n",
    "print_last_letter_of(var)\n"
   ]
  },
  {
   "cell_type": "code",
   "execution_count": 23,
   "metadata": {},
   "outputs": [],
   "source": [
    "def print_a_letter_of(string, index = -1):\n",
    "    letter = string[index]\n",
    "    print(letter)\n"
   ]
  },
  {
   "cell_type": "code",
   "execution_count": 25,
   "metadata": {},
   "outputs": [
    {
     "name": "stdout",
     "output_type": "stream",
     "text": [
      "o\n"
     ]
    }
   ],
   "source": [
    "print_a_letter_of(\"ciao\")"
   ]
  },
  {
   "cell_type": "code",
   "execution_count": 35,
   "metadata": {},
   "outputs": [],
   "source": [
    "def a_letter(string, index = -1):\n",
    "    letter = string[index]\n",
    "    return letter"
   ]
  },
  {
   "cell_type": "code",
   "execution_count": 37,
   "metadata": {},
   "outputs": [
    {
     "name": "stdout",
     "output_type": "stream",
     "text": [
      "o\n"
     ]
    }
   ],
   "source": [
    "results = a_letter(\"ciao\")\n",
    "print(results)"
   ]
  }
 ],
 "metadata": {
  "kernelspec": {
   "display_name": "Python 3",
   "language": "python",
   "name": "python3"
  },
  "language_info": {
   "codemirror_mode": {
    "name": "ipython",
    "version": 3
   },
   "file_extension": ".py",
   "mimetype": "text/x-python",
   "name": "python",
   "nbconvert_exporter": "python",
   "pygments_lexer": "ipython3",
   "version": "3.12.8"
  }
 },
 "nbformat": 4,
 "nbformat_minor": 2
}
