{
 "cells": [
  {
   "cell_type": "code",
   "execution_count": 3,
   "metadata": {},
   "outputs": [
    {
     "name": "stdout",
     "output_type": "stream",
     "text": [
      "Hi, \n",
      "my name is \n",
      "John Doe \n",
      "python\n"
     ]
    }
   ],
   "source": [
    "print(\"Hi, \\nmy name is \\nJohn Doe \\n\"\n",
    "\"python\")\n"
   ]
  },
  {
   "cell_type": "code",
   "execution_count": 6,
   "metadata": {},
   "outputs": [
    {
     "name": "stdout",
     "output_type": "stream",
     "text": [
      "1 polka polka polka 7.4\n"
     ]
    }
   ],
   "source": [
    "a, b, c = 1, \"polka polka polka\", 7.4\n",
    "print(a, b, c)"
   ]
  },
  {
   "cell_type": "code",
   "execution_count": 13,
   "metadata": {},
   "outputs": [
    {
     "name": "stdout",
     "output_type": "stream",
     "text": [
      "12 Hello\n",
      "Hello 12\n"
     ]
    }
   ],
   "source": [
    "a = 12\n",
    "b = 'Hello'\n",
    "print(a, b)\n",
    "\n",
    "# swap the values\n",
    "a, b = b, a\n",
    "print(a, b)"
   ]
  },
  {
   "cell_type": "code",
   "execution_count": 21,
   "metadata": {},
   "outputs": [
    {
     "name": "stdout",
     "output_type": "stream",
     "text": [
      "6 8 2\n",
      "6\n",
      "8\n",
      "2\n"
     ]
    }
   ],
   "source": [
    "Hello = 'Hello!'\n",
    "name = 'John Doe'\n",
    "age = '40'\n",
    "print(len(Hello), len(name), len(age))\n",
    "# oppure\n",
    "print(len(Hello))\n",
    "print(len(name))\n",
    "print(len(age))"
   ]
  },
  {
   "cell_type": "code",
   "execution_count": 17,
   "metadata": {},
   "outputs": [
    {
     "name": "stdout",
     "output_type": "stream",
     "text": [
      "HELLO WORLD\n"
     ]
    }
   ],
   "source": [
    "text = \"hello world\"\n",
    "uppercase = text.upper()\n",
    "print(uppercase)"
   ]
  },
  {
   "cell_type": "code",
   "execution_count": 26,
   "metadata": {},
   "outputs": [
    {
     "name": "stdout",
     "output_type": "stream",
     "text": [
      "0\n",
      "7\n"
     ]
    }
   ],
   "source": [
    "text = \"hello world\"\n",
    "index = text.find(\"hello\")\n",
    "index2 = text.find(\"orld\")\n",
    "print(index)\n",
    "print(index2)"
   ]
  },
  {
   "cell_type": "code",
   "execution_count": 86,
   "metadata": {},
   "outputs": [
    {
     "name": "stdout",
     "output_type": "stream",
     "text": [
      "on Tom LONG wolk\n",
      "['on', 'Tom', 'LONG', 'wolk']\n"
     ]
    }
   ],
   "source": [
    "# METHOD 1 \n",
    "### The customer wants all prepositions in the text to be in lowercase. So, change the word \"ON\" to lowercase. \n",
    "word = \"ON\"\n",
    "word_c = word.lower()\n",
    "\n",
    "### The customer insists that all names in the text must be capitalized. Please capitalize the name \"tom\".\n",
    "name = \"tom\"\n",
    "name_c = name.capitalize()\n",
    "\n",
    "### The customer wants to highlight the duration of the walk by making the word \"long\" uppercase.\n",
    "word2 = \"long\"\n",
    "word2_c = word2.upper()\n",
    "\n",
    "### Due to a particular reason, the customer would like to replace the 'a' with 'o' in the word \"walk\". Apply this change.\n",
    "word3 = \"walk\"\n",
    "word3_c = word3.replace(\"a\", \"o\")\n",
    "\n",
    "### After making the above changes, print the final sign text.\n",
    "final_sign_test = (word_c + \" \" + name_c + \" \" + word2_c + \" \" + word3_c)\n",
    "print(final_sign_test)\n",
    "\n",
    "### The company's LED programming software requires each word of the sentence as a separate string.\n",
    "### Use the appropriate python method to split the final sign text into separate words.\n",
    "split_final_sign_test = final_sign_test.split()\n",
    "print(split_final_sign_test)"
   ]
  }
 ],
 "metadata": {
  "kernelspec": {
   "display_name": "Python 3",
   "language": "python",
   "name": "python3"
  },
  "language_info": {
   "codemirror_mode": {
    "name": "ipython",
    "version": 3
   },
   "file_extension": ".py",
   "mimetype": "text/x-python",
   "name": "python",
   "nbconvert_exporter": "python",
   "pygments_lexer": "ipython3",
   "version": "3.12.8"
  }
 },
 "nbformat": 4,
 "nbformat_minor": 2
}
