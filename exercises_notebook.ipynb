{
 "cells": [
  {
   "cell_type": "code",
   "execution_count": 3,
   "metadata": {},
   "outputs": [
    {
     "name": "stdout",
     "output_type": "stream",
     "text": [
      "Hi, \n",
      "my name is \n",
      "John Doe \n",
      "python\n"
     ]
    }
   ],
   "source": [
    "print(\"Hi, \\nmy name is \\nJohn Doe \\n\"\n",
    "\"python\")\n"
   ]
  },
  {
   "cell_type": "code",
   "execution_count": 6,
   "metadata": {},
   "outputs": [
    {
     "name": "stdout",
     "output_type": "stream",
     "text": [
      "1 polka polka polka 7.4\n"
     ]
    }
   ],
   "source": [
    "a, b, c = 1, \"polka polka polka\", 7.4\n",
    "print(a, b, c)"
   ]
  },
  {
   "cell_type": "code",
   "execution_count": 13,
   "metadata": {},
   "outputs": [
    {
     "name": "stdout",
     "output_type": "stream",
     "text": [
      "12 Hello\n",
      "Hello 12\n"
     ]
    }
   ],
   "source": [
    "a = 12\n",
    "b = 'Hello'\n",
    "print(a, b)\n",
    "\n",
    "# swap the values\n",
    "a, b = b, a\n",
    "print(a, b)"
   ]
  },
  {
   "cell_type": "code",
   "execution_count": 21,
   "metadata": {},
   "outputs": [
    {
     "name": "stdout",
     "output_type": "stream",
     "text": [
      "6 8 2\n",
      "6\n",
      "8\n",
      "2\n"
     ]
    }
   ],
   "source": [
    "Hello = 'Hello!'\n",
    "name = 'John Doe'\n",
    "age = '40'\n",
    "print(len(Hello), len(name), len(age))\n",
    "# oppure\n",
    "print(len(Hello))\n",
    "print(len(name))\n",
    "print(len(age))"
   ]
  },
  {
   "cell_type": "code",
   "execution_count": 17,
   "metadata": {},
   "outputs": [
    {
     "name": "stdout",
     "output_type": "stream",
     "text": [
      "HELLO WORLD\n"
     ]
    }
   ],
   "source": [
    "text = \"hello world\"\n",
    "uppercase = text.upper()\n",
    "print(uppercase)"
   ]
  },
  {
   "cell_type": "code",
   "execution_count": 26,
   "metadata": {},
   "outputs": [
    {
     "name": "stdout",
     "output_type": "stream",
     "text": [
      "0\n",
      "7\n"
     ]
    }
   ],
   "source": [
    "text = \"hello world\"\n",
    "index = text.find(\"hello\")\n",
    "index2 = text.find(\"orld\")\n",
    "print(index)\n",
    "print(index2)"
   ]
  },
  {
   "cell_type": "code",
   "execution_count": 86,
   "metadata": {},
   "outputs": [
    {
     "name": "stdout",
     "output_type": "stream",
     "text": [
      "on Tom LONG wolk\n",
      "['on', 'Tom', 'LONG', 'wolk']\n"
     ]
    }
   ],
   "source": [
    "# METHOD 1\n",
    "## You're creating a software for a signage company that processes customer's requests into LED signs.\n",
    "## They have received a request with specific instructions:\n",
    "\n",
    "\n",
    "### The customer wants all prepositions in the text to be in lowercase. So, change the word \"ON\" to lowercase. \n",
    "word = \"ON\"\n",
    "word_c = word.lower()\n",
    "\n",
    "### The customer insists that all names in the text must be capitalized. Please capitalize the name \"tom\".\n",
    "name = \"tom\"\n",
    "name_c = name.capitalize()\n",
    "\n",
    "### The customer wants to highlight the duration of the walk by making the word \"long\" uppercase.\n",
    "word2 = \"long\"\n",
    "word2_c = word2.upper()\n",
    "\n",
    "### Due to a particular reason, the customer would like to replace the 'a' with 'o' in the word \"walk\". Apply this change.\n",
    "word3 = \"walk\"\n",
    "word3_c = word3.replace(\"a\", \"o\")\n",
    "\n",
    "### After making the above changes, print the final sign text.\n",
    "final_sign_test = (word_c + \" \" + name_c + \" \" + word2_c + \" \" + word3_c)\n",
    "print(final_sign_test)\n",
    "\n",
    "### The company's LED programming software requires each word of the sentence as a separate string.\n",
    "### Use the appropriate python method to split the final sign text into separate words.\n",
    "split_final_sign_test = final_sign_test.split()\n",
    "print(split_final_sign_test)\n"
   ]
  },
  {
   "cell_type": "code",
   "execution_count": 1,
   "metadata": {},
   "outputs": [
    {
     "name": "stdout",
     "output_type": "stream",
     "text": [
      "Hello, James! You are 25 years old.\n"
     ]
    }
   ],
   "source": [
    "# METHOD 2\n",
    "## You're building an automated check-in system for a tech conference.\n",
    "## When the attendees log in with their name and age, the system greets them and mentions their age. You've been given these variables:\n",
    "\n",
    "\n",
    "### An attendee named \"James\" who is \"25\" years old logs into the system. Please assign these values to the name and age variables.\n",
    "name = \"James\"\n",
    "age = 25\n",
    "\n",
    "\n",
    "### Now, you need to construct a greeting message that mentions the attendee's name and age. Store this in the hello variable using formatted string literals (f-strings).\n",
    "hello = f\"Hello, {name}! You are {age} years old.\"\n",
    "\n",
    "\n",
    "### Finally, print the greeting message.\n",
    "print(hello)\n"
   ]
  },
  {
   "cell_type": "code",
   "execution_count": 9,
   "metadata": {},
   "outputs": [
    {
     "name": "stdout",
     "output_type": "stream",
     "text": [
      "Name: Champion Massimo Disprezzo, type: <class 'str'>\n",
      "Age: 30, type: <class 'int'>\n",
      "City: Foggiatown, type: <class 'str'>\n",
      "Height: 1.8, type: <class 'float'>\n",
      "Is Hero: True, type: <class 'bool'>\n"
     ]
    }
   ],
   "source": [
    "# METHOD 3\n",
    "## You're a character in a new video game. Your task is to complete your profile by doing the following:\n",
    "\n",
    "\n",
    "### Begin by creating variables for your character's name, age, and city of residence.\n",
    "name = \"Massimo Disprezzo\"\n",
    "age = 30\n",
    "city = \"Foggiatown\"\n",
    "\n",
    "\n",
    "### Next, you need to introduce yourself to the other characters in the game. Use string concatenation to display a sentence about yourself using the above variables.\n",
    "character_intro = \"Hello! My name is \" + name + \", I am \" + str(age) + \" years old and I live in \" + city + \".\"\n",
    "\n",
    "\n",
    "### As you progress through the game, you earn the title of \"Champion\". Modify your name variable to add this title in front of your name.\n",
    "name = \"Champion \" + name\n",
    "\n",
    "\n",
    "### Announce your new status to the other characters. Use the string format method to display the same sentence as your introduction, but with your new title.\n",
    "new_character_intro = \"Hello! My name is {}, I am {} years old and I live in {}.\".format(name, age, city)\n",
    "\n",
    "\n",
    "### Additional details about your character have been unlocked! Create a variable called \"height\" and assign a floating point value to it. Also, create a variable called \"is_hero\" and assign a boolean value to it.\n",
    "height = 1.80\n",
    "is_hero = True\n",
    "\n",
    "\n",
    "### Lastly, check your profile to ensure all your details are correct. Print the type of each variable from the previous exercise using the format method or f-string.\n",
    "print(f\"Name: {name}, type: {type(name)}\")\n",
    "print(f\"Age: {age}, type: {type(age)}\")\n",
    "print(f\"City: {city}, type: {type(city)}\")\n",
    "print(f\"Height: {height}, type: {type(height)}\")\n",
    "print(f\"Is Hero: {is_hero}, type: {type(is_hero)}\")\n"
   ]
  },
  {
   "cell_type": "code",
   "execution_count": null,
   "metadata": {},
   "outputs": [],
   "source": [
    "# METHOD 4\n",
    "## "
   ]
  }
 ],
 "metadata": {
  "kernelspec": {
   "display_name": "Python 3",
   "language": "python",
   "name": "python3"
  },
  "language_info": {
   "codemirror_mode": {
    "name": "ipython",
    "version": 3
   },
   "file_extension": ".py",
   "mimetype": "text/x-python",
   "name": "python",
   "nbconvert_exporter": "python",
   "pygments_lexer": "ipython3",
   "version": "3.12.8"
  }
 },
 "nbformat": 4,
 "nbformat_minor": 2
}
